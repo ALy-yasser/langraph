{
 "cells": [
  {
   "cell_type": "code",
   "execution_count": 14,
   "id": "ab53cba6",
   "metadata": {},
   "outputs": [],
   "source": [
    "from typing_extensions import TypedDict\n",
    "\n",
    "class State(TypedDict):\n",
    "    graph_info: str"
   ]
  },
  {
   "cell_type": "code",
   "execution_count": 23,
   "id": "10cc33c8",
   "metadata": {},
   "outputs": [],
   "source": [
    "def start_play(state:State):\n",
    "    print(\"srart play node called\")\n",
    "    return{\"graph_info\":state[\"graph_info\"] +\"I like to play\"} \n",
    "def cricket(state:State):\n",
    "    print(\"cricket node called\")\n",
    "    return{\"graph_info\":state[\"graph_info\"] +\"I like to play cricket\"} \n",
    "def football(state:State):\n",
    "    print(\"football node called\")\n",
    "    return{\"graph_info\":state[\"graph_info\"] +\"I like to play football\"}\n"
   ]
  },
  {
   "cell_type": "code",
   "execution_count": 33,
   "id": "815554a9",
   "metadata": {},
   "outputs": [],
   "source": [
    "import random\n",
    "from typing import Literal\n",
    "\n",
    "\n",
    "def random_play(satate:State)->Literal['cricket','football']:\n",
    "    if random.random()>0.5:\n",
    "        return \"cricket\"\n",
    "    else:\n",
    "        return \"football\"\n"
   ]
  },
  {
   "cell_type": "code",
   "execution_count": null,
   "id": "bec876ec",
   "metadata": {},
   "outputs": [
    {
     "name": "stdout",
     "output_type": "stream",
     "text": [
      "\n",
      "=== VISUAL FLOW DIAGRAM ===\n",
      "\n",
      "Graph State: {\"messages\": [msg1, msg2, msg3]}\n",
      "     ↓\n",
      "tool_calling_llm(state) function called\n",
      "     ↓\n",
      "state[\"messages\"] → [msg1, msg2, msg3] (extracted)\n",
      "     ↓\n",
      "llm_with_tools.invoke([msg1, msg2, msg3])\n",
      "     ↓\n",
      "LLM processes conversation history\n",
      "     ↓\n",
      "LLM generates response → AIMessage(content=\"...\", tool_calls=[...])\n",
      "     ↓\n",
      "Function returns: {\"messages\": [new_ai_message]}\n",
      "     ↓\n",
      "add_messages reducer merges:\n",
      "  OLD: [msg1, msg2, msg3]\n",
      "  NEW: [new_ai_message]\n",
      "     ↓\n",
      "Updated Graph State: {\"messages\": [msg1, msg2, msg3, new_ai_message]}\n",
      "\n",
      "=== ANALOGY ===\n",
      "Think of it like a conversation:\n",
      "\n",
      "1. You have a chat history (state['messages'])\n",
      "2. You show the entire chat to an AI assistant (llm_with_tools.invoke())\n",
      "3. The AI reads everything and gives you ONE new response\n",
      "4. You add that response to your chat history\n",
      "5. Now your chat history is longer by one message\n",
      "\n",
      "The 'invoke' is like asking: 'Given this conversation, what should I say next?'\n",
      "\n",
      "=== WHY THE LIST WRAPPING? ===\n",
      "• llm_with_tools.invoke() returns: AIMessage (single object)\n",
      "• LangGraph expects: {'messages': [list_of_messages]}\n",
      "• So we wrap: [AIMessage] to make it a list\n",
      "• The reducer then adds this list to the existing messages\n"
     ]
    }
   ],
   "source": [
    "\n"
   ]
  },
  {
   "cell_type": "code",
   "execution_count": 36,
   "id": "61057055",
   "metadata": {},
   "outputs": [
    {
     "data": {
      "image/png": "[encoded data removed]",
      "text/plain": [
       "<IPython.core.display.Image object>"
      ]
     },
     "metadata": {},
     "output_type": "display_data"
    }
   ],
   "source": [
    "from langgraph.graph import StateGraph, START, END\n",
    "from langgraph.graph.message import add_messages\n",
    "from langgraph.graph.message import add_messages\n",
    "from IPython.display import Image,display\n",
    "from langgraph.graph.message import add_messages\n",
    "\n",
    "\n",
    "\n",
    "\n",
    "graph = StateGraph(State)\n",
    "##add nodes\n",
    "graph.add_node(\"start\",start_play)\n",
    "graph.add_node(\"cricket\",cricket)\n",
    "graph.add_node(\"football\",football)\n",
    "\n",
    "##add edges\n",
    "graph.add_edge(START, \"start\")\n",
    "graph.add_conditional_edges(\"start\",random_play)\n",
    "graph.add_edge(\"cricket\", END)\n",
    "graph.add_edge(\"football\", END)\n",
    "\n",
    "\n",
    "##compile the graph\n",
    "graph_builder = graph.compile()\n",
    "\n",
    "display(Image(graph_builder.get_graph().draw_mermaid_png()))"
   ]
  },
  {
   "cell_type": "code",
   "execution_count": 41,
   "id": "27308915",
   "metadata": {},
   "outputs": [
    {
     "name": "stdout",
     "output_type": "stream",
     "text": [
      "srart play node called\n",
      "cricket node called\n"
     ]
    },
    {
     "data": {
      "text/plain": [
       "{'graph_info': 'my name is alyI like to playI like to play cricket'}"
      ]
     },
     "execution_count": 41,
     "metadata": {},
     "output_type": "execute_result"
    }
   ],
   "source": [
    "graph_builder.invoke({\"graph_info\":\"my name is aly\"})"
   ]
  }
 ],
 "metadata": {
  "kernelspec": {
   "display_name": "venv",
   "language": "python",
   "name": "python3"
  },
  "language_info": {
   "codemirror_mode": {
    "name": "ipython",
    "version": 3
   },
   "file_extension": ".py",
   "mimetype": "text/x-python",
   "name": "python",
   "nbconvert_exporter": "python",
   "pygments_lexer": "ipython3",
   "version": "3.12.3"
  }
 },
 "nbformat": 4,
 "nbformat_minor": 5
}
