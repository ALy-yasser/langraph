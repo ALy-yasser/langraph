{
 "cells": [
  {
   "cell_type": "code",
   "execution_count": 1,
   "id": "db6890a4",
   "metadata": {},
   "outputs": [],
   "source": [
    "from langchain_community.tools import ArxivQueryRun,WikipediaQueryRun\n",
    "from langchain_community.utilities import WikipediaAPIWrapper,ArxivAPIWrapper"
   ]
  },
  {
   "cell_type": "markdown",
   "id": "84ca5be9",
   "metadata": {},
   "source": [
    "#### Arxiv tool\n"
   ]
  },
  {
   "cell_type": "code",
   "execution_count": 2,
   "id": "ae914f07",
   "metadata": {},
   "outputs": [],
   "source": [
    "api_wrapper_arxiv=ArxivAPIWrapper(top_k_results=2,doc_content_chars_max=200)\n",
    "arxiv=ArxivQueryRun(api_wrapper=api_wrapper_arxiv, description=\"Quesry arxiv papers\")\n"
   ]
  },
  {
   "cell_type": "markdown",
   "id": "7d36834c",
   "metadata": {},
   "source": [
    "#### wikipredia tool\n"
   ]
  },
  {
   "cell_type": "code",
   "execution_count": 3,
   "id": "90e76a91",
   "metadata": {},
   "outputs": [],
   "source": [
    "api_wrapper_wiki= WikipediaAPIWrapper(top_k_results=2,doc_content_chars_max=200)\n",
    "wiki=WikipediaQueryRun(api_wrapper=api_wrapper_wiki,description=\"search wikipedia\")"
   ]
  },
  {
   "cell_type": "code",
   "execution_count": 4,
   "id": "4e71feba",
   "metadata": {},
   "outputs": [],
   "source": [
    "from dotenv import load_dotenv\n",
    "load_dotenv()\n",
    "import os\n",
    "\n",
    "from langchain_community.tools import ArxivQueryRun,WikipediaQueryRun\n",
    "\n",
    "os.environ[\"TAVILY_API_KEY\"]=os.getenv(\"TAVILY_API_KEY\")\n",
    "os.environ[\"GROQ_API_KEY\"]=os.getenv(\"GROQ_API_KEY\")"
   ]
  },
  {
   "cell_type": "markdown",
   "id": "74e13705",
   "metadata": {},
   "source": [
    "Tavily tool \"Call apis\""
   ]
  },
  {
   "cell_type": "code",
   "execution_count": 5,
   "id": "fdb85867",
   "metadata": {},
   "outputs": [
    {
     "name": "stderr",
     "output_type": "stream",
     "text": [
      "/tmp/ipykernel_2857/138978059.py:3: LangChainDeprecationWarning: The class `TavilySearchResults` was deprecated in LangChain 0.3.25 and will be removed in 1.0. An updated version of the class exists in the :class:`~langchain-tavily package and should be used instead. To use it run `pip install -U :class:`~langchain-tavily` and import as `from :class:`~langchain_tavily import TavilySearch``.\n",
      "  tavily_search=TavilySearchResults(max_results=5)\n"
     ]
    },
    {
     "data": {
      "text/plain": [
       "[{'title': 'Paris facts: the capital of France in history',\n",
       "  'url': 'https://home.adelphi.edu/~ca19535/page%204.html',\n",
       "  'content': 'page 4\\n\\n|  |  |  |  |  |  |  |\\n| --- | --- | --- | --- | --- | --- | --- |\\n| Home | Spain | Sydney | San Francisco | Paris | Las Vegas | Maui |\\n\\n  \\nParis, France  \\n\\n  \\n\\n## Paris facts: Paris, the capital of France\\n\\nParis is the capital of France,\\nthe largest country of Europe\\nwith 550 000 km2 (65 millions inhabitants).\\n\\nParis has 2.234 million inhabitants\\nend 2011. She is the core of Ile de France region (12 million\\npeople). [...] Paris remained the capital of\\nFrance until today, with one four year interruption. During\\nGerman occupation (WW2 , 1940-1944), the capital of France was Vichy.\\n\\ngo to top\\n\\nReference: [...] ## Paris facts: the capital of France in history\\n\\nBefore Paris, the capital of France\\nwas Lyon\\n(under the Romans). Paris first became the capital of France in\\n508 under King Clovis. After centuries with no unique capital of\\nFrance, Paris retrieved its status of capital of France under King\\nPhilippe Auguste, who reigned between 1180 and 1223. You\\ncan see remains of the Philippe August Paris walls in the\\npassageway between the Louvre\\nparking and Louvre Museum',\n",
       "  'score': 0.8877607},\n",
       " {'title': 'France | History, Maps, Flag, Population, Cities, Capital, & Facts',\n",
       "  'url': 'https://www.britannica.com/place/France',\n",
       "  'content': 'The capital and by far the most important city of France is Paris, one of the world’s preeminent cultural and commercial centres. A majestic city known as the ville lumière, or “city of light,” Paris has often been remade, most famously in the mid-19th century under the command of Georges-Eugène, Baron Haussman, who was committed to Napoleon III’s vision of a modern city free of the choleric swamps and congested alleys of old, with broad avenues and a regular plan. Paris is now a sprawling [...] Quick Facts\\n\\nFrance\\n\\nSee article: flag of France\\n\\nAudio File:\\nAnthem of France (see article)\\n\\nHead Of Government:\\n:   Prime minister: François Bayrou\\n\\n(Show more)\\n\\nCapital:\\n:   Paris\\n\\n(Show more)\\n\\nPopulation:\\n:   (2025 est.) 66,607,000\\n\\n(Show more)\\n\\nCurrency Exchange Rate:\\n:   1 USD equals 0.886 euro\\n\\n(Show more)\\n\\nHead Of State:\\n:   President: Emmanuel Macron\\n\\n(Show more)\\n\\nForm Of Government:\\n:   republic with two legislative houses (Parliament; Senate , National Assembly )\\n\\n(Show more) [...] Among France’s other major cities are Lyon, located along an ancient Rhône valley trade route linking the North Sea and the Mediterranean; Marseille, a multiethnic port on the Mediterranean founded as an entrepôt for Greek and Carthaginian traders in the 6th century bce; Nantes, an industrial centre and deepwater harbour along the Atlantic coast; and Bordeaux, located in southwestern France along the Garonne River.\\n\\nBritannica Chatbot logo\\n\\n# Britannica Chatbot',\n",
       "  'score': 0.8729662},\n",
       " {'title': 'Paris - Wikipedia',\n",
       "  'url': 'https://en.wikipedia.org/wiki/Paris',\n",
       "  'content': 'Paris (French pronunciation:( \"Help:IPA/French\")ⓘ) is the capital and largest city of France. With an estimated population of 2,048,472 in January 2025( in an area of more than 105 km 2 (41 sq mi),( Paris is the fourth-most populous city in the European Union and the 30th most densely populated city in the world in 2022.( Since the 17th century, Paris has been one of the world\\'s major centres of finance, diplomacy, commerce, culture, fashion, and gastronomy. Because of its leading role in the [...] Wikimedia Commons\\n   Wikinews\\n   Wikiquote\\n   Wikivoyage\\n   Wikidata item\\n\\nCoordinates: Image 4: Show location on an interactive map48°51′24″N 2°21′8″E / 48.85667°N 2.35222°E / 48.85667; 2.35222_region:FR-75C)\\n\\nImage 5: This is a good article. Click here for more information.\\n\\nImage 6: Page semi-protected\\n\\nFrom Wikipedia, the free encyclopedia\\n\\nCapital and largest city of France [...] This article is about the capital city of France. For other uses, see Paris (disambiguation) \"Paris (disambiguation)\").\\n\\n\"Parisien\" redirects here. For other uses, see Parisien (disambiguation) \"Parisien (disambiguation)\").\\n\\nPlace in Île-de-France, France',\n",
       "  'score': 0.8576849},\n",
       " {'title': 'Paris, France - Intercultural Cities Programme - The Council of Europe',\n",
       "  'url': 'https://www.coe.int/en/web/interculturalcities/paris',\n",
       "  'content': 'Paris is the capital and most populous city of France. Situated on the Seine River, in the north of the country, it is in the centre of the Île-de-France region, also known as the région parisienne, \"Paris Region\". The City of Paris has an area of 105 km² and a population of 2,241,346 (2014 estimate). Since the 19th century, the built-up area of Paris has grown far beyond its administrative borders; together with its suburbs, the whole agglomeration has a population of 10,550,350 (Jan. 2012',\n",
       "  'score': 0.8390101},\n",
       " {'title': 'Paris Is The Capital City Of France! - KLT Geography - YouTube',\n",
       "  'url': 'https://www.youtube.com/watch?v=6qY9QHrJOng',\n",
       "  'content': \"KLT Geography is THE destination to learn the wonders of the world’s countries, continents, oceans and other natural features through fun, original music and unique animation. Tune in EVERY Saturday for new videos!\\n _________ \\n\\n#klt #kltgeo #paris \\n\\nParis Is The Capital City Of France! | The Paris Song | KLT Geography\\n0 comments [...] # Paris Is The Capital City Of France! | The Paris Song | KLT Geography\\n\\nKLT Geography\\n45 likes\\n7645 views\\n29 Aug 2023\\n► Get KLT’s US GEOGRAPHY COLORING BOOK: \\n\\nWhen you're in Paris, check these places out!\",\n",
       "  'score': 0.8127637}]"
      ]
     },
     "execution_count": 5,
     "metadata": {},
     "output_type": "execute_result"
    }
   ],
   "source": [
    "from langchain_community.tools.tavily_search import TavilySearchResults\n",
    "\n",
    "tavily_search=TavilySearchResults(max_results=5)\n",
    "\n",
    "tavily_search.run(\"What is the capital of France?\")"
   ]
  },
  {
   "cell_type": "markdown",
   "id": "87eb4ef1",
   "metadata": {},
   "source": [
    "Combine tools\n"
   ]
  },
  {
   "cell_type": "code",
   "execution_count": 6,
   "id": "43f6180c",
   "metadata": {},
   "outputs": [],
   "source": [
    "tools=[arxiv,wiki,tavily_search]\n"
   ]
  },
  {
   "cell_type": "code",
   "execution_count": 7,
   "id": "39bfc8b4",
   "metadata": {},
   "outputs": [],
   "source": [
    "from langchain_groq import ChatGroq\n",
    "\n",
    "\n",
    "llm=ChatGroq(model=\"llama-3.1-8b-instant\",api_key=os.getenv(\"GROQ_API_KEY\"))\n",
    "\n"
   ]
  },
  {
   "cell_type": "code",
   "execution_count": 8,
   "id": "caf2a5b9",
   "metadata": {},
   "outputs": [
    {
     "data": {
      "text/plain": [
       "'AI, or Artificial Intelligence, refers to the simulation of human intelligence in machines that are programmed to think and learn like humans. The term can also be applied to any machine that exhibits traits associated with a human mind such as learning and problem-solving.\\n\\nAI technology is generally divided into two categories:\\n\\n1. **Narrow or Weak AI**: This type of AI is designed and trained to perform a specific task, such as image recognition, language translation, or playing a particular game. Narrow AI is trained on a specific dataset and is not capable of general reasoning or problem-solving outside its programming.\\n\\n2. **General or Strong AI**: This type of AI is designed to perform any intellectual task that a human can, and to continue learning and improving its abilities over time. General AI is still in the realm of science fiction, but researchers are actively working towards developing more advanced AI systems that can approach human levels of intelligence.\\n\\n**Types of AI**:\\n\\n- **Reactive Machines**: These AI systems can only react to the input they receive and do not have the ability to learn or reason.\\n- **Limited Memory**: These AI systems can learn from their experiences but only to a limited extent.\\n- **Theory of Mind**: These AI systems can understand the mental state of other beings, including humans.\\n- **Self-Awareness**: These AI systems have a sense of self and are able to reflect on their own thoughts and emotions.\\n\\n**Applications of AI**:\\n\\n- **Virtual Assistants**: AI-powered virtual assistants, such as Siri, Alexa, and Google Assistant, can perform tasks, answer questions, and learn from user behavior.\\n- **Image Recognition**: AI-powered image recognition systems can analyze images and identify objects, people, and patterns.\\n- **Natural Language Processing**: AI-powered NLP systems can understand and generate human language, enabling applications such as chatbots, language translation, and text summarization.\\n- **Robotics**: AI-powered robots can perform complex tasks, such as assembly, navigation, and manipulation.\\n- **Predictive Analytics**: AI-powered predictive analytics systems can analyze data and make predictions about future events or outcomes.\\n\\n**Benefits of AI**:\\n\\n- **Improved Efficiency**: AI can automate routine tasks and improve productivity.\\n- **Enhanced Decision-Making**: AI can analyze large amounts of data and provide insights that can inform decision-making.\\n- **Personalization**: AI can deliver personalized experiences and recommendations based on individual preferences and behaviors.\\n\\n**Challenges of AI**:\\n\\n- **Bias and Fairness**: AI systems can perpetuate bias and unfairness if they are trained on biased data.\\n- **Job Displacement**: AI can automate jobs and displace human workers.\\n- **Security**: AI systems can be vulnerable to cyber attacks and data breaches.\\n\\nOverall, AI has the potential to bring about significant benefits and improvements in many areas of life, but it also raises important questions and challenges that need to be addressed.'"
      ]
     },
     "execution_count": 8,
     "metadata": {},
     "output_type": "execute_result"
    }
   ],
   "source": [
    "llm.invoke(\"what is ai\").content"
   ]
  },
  {
   "cell_type": "code",
   "execution_count": 9,
   "id": "6ebf1874",
   "metadata": {},
   "outputs": [],
   "source": [
    "llm_with_tools=llm.bind_tools(tools=tools)\n",
    "\n",
    "\n"
   ]
  },
  {
   "cell_type": "code",
   "execution_count": 10,
   "id": "cc94bdd9",
   "metadata": {},
   "outputs": [
    {
     "data": {
      "text/plain": [
       "AIMessage(content='', additional_kwargs={'tool_calls': [{'id': 'pyv9j76mp', 'function': {'arguments': '{\"query\":\"langchain latest paper\"}', 'name': 'arxiv'}, 'type': 'function'}]}, response_metadata={'token_usage': {'completion_tokens': 18, 'prompt_tokens': 398, 'total_tokens': 416, 'completion_time': 0.036051484, 'prompt_time': 0.138392475, 'queue_time': 0.09086540400000001, 'total_time': 0.174443959}, 'model_name': 'llama-3.1-8b-instant', 'system_fingerprint': 'fp_c523237e5d', 'service_tier': 'on_demand', 'finish_reason': 'tool_calls', 'logprobs': None}, id='run--7f71cc00-b59c-45ea-9652-8bff06820a65-0', tool_calls=[{'name': 'arxiv', 'args': {'query': 'langchain latest paper'}, 'id': 'pyv9j76mp', 'type': 'tool_call'}], usage_metadata={'input_tokens': 398, 'output_tokens': 18, 'total_tokens': 416})"
      ]
     },
     "execution_count": 10,
     "metadata": {},
     "output_type": "execute_result"
    }
   ],
   "source": [
    "llm_with_tools.invoke(\"what is the latest paper on langchain?\")"
   ]
  },
  {
   "cell_type": "markdown",
   "id": "20f0dc0a",
   "metadata": {},
   "source": [
    "##### Workflow"
   ]
  },
  {
   "cell_type": "code",
   "execution_count": 11,
   "id": "d877c890",
   "metadata": {},
   "outputs": [],
   "source": [
    "from typing_extensions import TypedDict\n",
    "from langchain_core.messages import AnyMessage\n",
    "from typing import Annotated\n",
    "from langgraph.graph.message import add_messages"
   ]
  },
  {
   "cell_type": "code",
   "execution_count": 12,
   "id": "57ccb3a9",
   "metadata": {},
   "outputs": [],
   "source": [
    "class State(TypedDict):\n",
    "    messages: Annotated[list[AnyMessage], add_messages]\n"
   ]
  },
  {
   "cell_type": "code",
   "execution_count": 13,
   "id": "4819b687",
   "metadata": {},
   "outputs": [],
   "source": [
    "from IPython.display import Image, display\n",
    "from langgraph.graph import StateGraph, START, END\n",
    "from langgraph.prebuilt import ToolNode\n",
    "from langgraph.prebuilt import tools_condition"
   ]
  },
  {
   "cell_type": "code",
   "execution_count": 14,
   "id": "64924d01",
   "metadata": {},
   "outputs": [
    {
     "data": {
      "image/png": "[encoded data removed]",
      "text/plain": [
       "<IPython.core.display.Image object>"
      ]
     },
     "metadata": {},
     "output_type": "display_data"
    }
   ],
   "source": [
    "def tool_calling_llm(state:State):\n",
    "    return {\"messages\":[llm_with_tools.invoke(state[\"messages\"])]}\n",
    "\n",
    "\n",
    "\n",
    "\n",
    "builder=StateGraph(State)\n",
    "\n",
    "builder.add_node(\"tool_calling_llm\",tool_calling_llm)\n",
    "\n",
    "builder.add_node(\"tools\",ToolNode(tools=tools))\n",
    "\n",
    "\n",
    "\n",
    "#add edges\n",
    "builder.add_edge(START, \"tool_calling_llm\")\n",
    "builder.add_conditional_edges(\"tool_calling_llm\", tools_condition)\n",
    "builder.add_edge(\"tools\", END)\n",
    "\n",
    "\n",
    "graph=builder.compile()\n",
    "\n",
    "\n",
    "display(Image(graph.get_graph().draw_mermaid_png()))\n",
    "\n",
    "\n",
    "\n",
    "\n",
    "\n",
    "\n"
   ]
  },
  {
   "cell_type": "code",
   "execution_count": 15,
   "id": "7d5c228d",
   "metadata": {},
   "outputs": [
    {
     "name": "stdout",
     "output_type": "stream",
     "text": [
      "================================\u001b[1m Human Message \u001b[0m=================================\n",
      "\n",
      "my name is aly\n",
      "==================================\u001b[1m Ai Message \u001b[0m==================================\n",
      "Tool Calls:\n",
      "  wikipedia (g2hp4p2x7)\n",
      " Call ID: g2hp4p2x7\n",
      "  Args:\n",
      "    query: Aly\n",
      "=================================\u001b[1m Tool Message \u001b[0m=================================\n",
      "Name: wikipedia\n",
      "\n",
      "Page: Aly Goni\n",
      "Summary: Aly Goni (born 25 February 1991) is an Indian actor and model who appears in Hindi television. He made his debut through participating in MTV's dating reality show Splitsvilla \n"
     ]
    }
   ],
   "source": [
    "\n",
    "\n",
    "messages=graph.invoke({\"messages\":\"my name is aly\"})\n",
    "for m in messages['messages']:\n",
    "    m.pretty_print()\n",
    "    \n",
    "\n",
    "\n",
    "\n",
    "\n",
    "\n",
    "\n",
    "\n",
    "\n"
   ]
  },
  {
   "cell_type": "code",
   "execution_count": 16,
   "id": "eb1105ca",
   "metadata": {},
   "outputs": [
    {
     "data": {
      "image/png": "[encoded data removed]",
      "text/plain": [
       "<IPython.core.display.Image object>"
      ]
     },
     "metadata": {},
     "output_type": "display_data"
    }
   ],
   "source": [
    "def tool_calling_llm(state:State):\n",
    "    return {\"messages\":[llm_with_tools.invoke(state[\"messages\"])]}\n",
    "\n",
    "\n",
    "\n",
    "\n",
    "builder=StateGraph(State)\n",
    "\n",
    "builder.add_node(\"tool_calling_llm\",tool_calling_llm)\n",
    "builder.add_node(\"tools\",ToolNode(tools=tools))\n",
    "\n",
    "\n",
    "\n",
    "#add edges\n",
    "builder.add_edge(START, \"tool_calling_llm\")\n",
    "builder.add_conditional_edges(\"tool_calling_llm\", tools_condition)\n",
    "\n",
    "builder.add_edge(\"tools\", \"tool_calling_llm\")\n",
    "builder.add_edge(\"tool_calling_llm\", END)\n",
    "\n",
    "\n",
    "graph=builder.compile()\n",
    "\n",
    "\n",
    "display(Image(graph.get_graph().draw_mermaid_png()))\n",
    "\n",
    "\n",
    "\n",
    "\n",
    "\n",
    "\n"
   ]
  },
  {
   "cell_type": "code",
   "execution_count": 17,
   "id": "c6b42a51",
   "metadata": {},
   "outputs": [
    {
     "name": "stdout",
     "output_type": "stream",
     "text": [
      "================================\u001b[1m Human Message \u001b[0m=================================\n",
      "\n",
      "What is the recent AI news and then please tell me the recent reseach paper on AI\n",
      "==================================\u001b[1m Ai Message \u001b[0m==================================\n",
      "Tool Calls:\n",
      "  tavily_search_results_json (t7978dt7z)\n",
      " Call ID: t7978dt7z\n",
      "  Args:\n",
      "    query: Recent AI news\n",
      "  arxiv (df4qvrras)\n",
      " Call ID: df4qvrras\n",
      "  Args:\n",
      "    query: Recent AI research papers\n",
      "=================================\u001b[1m Tool Message \u001b[0m=================================\n",
      "Name: tavily_search_results_json\n",
      "\n",
      "[{\"title\": \"AI News | Latest AI News, Analysis & Events\", \"url\": \"https://www.artificialintelligence-news.com/\", \"content\": \"Anthropic deploys AI agents to audit models for safety · AGI. July 25, 2025 ; Sam Altman: AI will cause job losses and national security threats · Applications.\", \"score\": 0.98584}, {\"title\": \"Artificial Intelligence News - ScienceDaily\", \"url\": \"https://www.sciencedaily.com/news/computers_math/artificial_intelligence/\", \"content\": \"Humans Are Still Better Than AI at Reading the Room · Flying Robots Unlock New Horizons in Construction · Making AI-Generated Code More Accurate in Any Language\", \"score\": 0.97987}, {\"title\": \"The latest AI news we announced in June - Google Blog\", \"url\": \"https://blog.google/technology/ai/google-ai-updates-june-2025/\", \"content\": \"Here's a recap of some of our biggest AI updates from June, including more ways to search with AI Mode, a new way to share your NotebookLM notebooks publicly.\", \"score\": 0.97625}, {\"title\": \"China pitches global AI governance group as the US goes it alone\", \"url\": \"https://www.cnn.com/2025/07/28/tech/china-global-ai-cooperation-organization-waic-hnk-spc\", \"content\": \"China has proposed a global action plan to govern artificial intelligence, just days after the United States unveiled its own plan to\", \"score\": 0.97477}, {\"title\": \"Artificial intelligence | Massachusetts Institute of Technology\", \"url\": \"https://news.mit.edu/topic/artificial-intelligence2\", \"content\": \"New AI system uncovers hidden cell subtypes, boosts precision medicine. CellLENS reveals hidden patterns in cell behavior within tissues, offering deeper\", \"score\": 0.97164}]\n",
      "=================================\u001b[1m Tool Message \u001b[0m=================================\n",
      "Name: arxiv\n",
      "\n",
      "Published: 2021-03-29\n",
      "Title: \"Weak AI\" is Likely to Never Become \"Strong AI\", So What is its Greatest Value for us?\n",
      "Authors: Bin Liu\n",
      "Summary: AI has surpassed humans across a variety of tasks such as \n",
      "==================================\u001b[1m Ai Message \u001b[0m==================================\n",
      "Tool Calls:\n",
      "  tavily_search_results_json (7wknyfrak)\n",
      " Call ID: 7wknyfrak\n",
      "  Args:\n",
      "    query: Recent AI research papers in 2024\n",
      "  arxiv (skpkjpvn6)\n",
      " Call ID: skpkjpvn6\n",
      "  Args:\n",
      "    query: AI research papers 2024\n",
      "=================================\u001b[1m Tool Message \u001b[0m=================================\n",
      "Name: tavily_search_results_json\n",
      "\n",
      "[{\"title\": \"Noteworthy AI Research Papers of 2024 (Part One) - Ahead of AI\", \"url\": \"https://magazine.sebastianraschka.com/p/ai-research-papers-2024-part-1\", \"content\": \"# 1. January: Mixtral's Mixture of Experts Approach\\n\\nOnly a few days into January 2024, the Mistral AI team shared the Mixtral of Experts paper (8 Jan 2024), which described Mixtral 8x7B, a Sparse Mixture of Experts (SMoE) model.\\n\\nThe paper and model were both very influential at the time, as Mixtral 8x7B was (one of) the first open-weight MoE LLMs with an impressive performance: it outperformed Llama 2 70B and GPT-3.5 across various benchmarks.\\n\\n## 1.1 Understanding MoE models [...] I found another LoRA paper this year particularly interesting (this is the last LoRA paper in this 12-paper selection, I promise!). I wouldn't call it groundbreaking, but I really like it since it formalizes some of the common knowledge around finetuning LLMs with (and without) LoRA: LoRA Learns Less and Forgets Less (May 2024) by Biderman and colleagues. [...] So, in this article, I'll share research papers that I personally found fascinating, impactful, or, ideally, both. However, note that this article is just Part One, focusing on the first half of 2024 from January through June. Part 2 of this series, covering July to December, will be shared later in January.\\n\\nThe selection criteria are admittedly subjective, based on what stood out to me this year. I've also aimed for some variety, so it's not all just about LLM model releases.\", \"score\": 0.9332426}, {\"title\": \"Top 10 AI Research Papers of 2024 | by agus abdul rahman - Medium\", \"url\": \"https://medium.com/@agusabdulrahman/top-10-ai-research-papers-of-2024-168193940a27\", \"content\": \"While the growth in the machine learning (cs.LG) category wasn’t as dramatic, there is significant overlap between AI and ML papers. These categories often share foundational innovations and applications, reflecting the interdisciplinary nature of modern AI research.\\n\\n# The Top 10 Most Cited AI Research Papers of 2024\\n\\n# 10. Deep Seek Coder (301 citations)\\n\\n--\\n\\n--\\n\\nagus abdul rahman\\nagus abdul rahman\\n\\n## Written by agus abdul rahman\\n\\nAI/ML Engineer\\n\\n## No responses yet\\n\\nHelp\\n\\nStatus\\n\\nAbout [...] Sign up\\n\\nSign in\\n\\nSign up\\n\\nSign in\\n\\nMember-only story\\n\\n# Top 10 AI Research Papers of 2024\\n\\n## Explore the Most Influential AI Papers of 2024: Innovations, Applications, and Key Takeaways\\n\\nagus abdul rahman\\n\\n--\\n\\nShare\\n\\n2024 has been another groundbreaking year for AI, with significant advancements and an exponential increase in research contributions. Let’s dive into the top 10 most cited AI research papers of 2024, explore their significance, and understand the trends shaping the field. [...] The AI category on arXiv, the most popular platform for hosting research papers, saw a remarkable surge in submissions. As of November 21, there were 3,242 papers in the AI category (cs.AI), compared to 1,742 in 2023 — nearly doubling in just one year. This growth underscores the rapid pace of AI research and innovation. Although some AI papers aren’t on arXiv, it remains the go-to repository for most major contributions.\", \"score\": 0.92604345}, {\"title\": \"50 Papers of 2024 to Read about AI - The Intelligent Friend\", \"url\": \"https://theintelligentfriend.substack.com/p/50-papers-of-2024-to-read-about-ai\", \"content\": \"## 🖍️ The List\\n\\nChoice engines and paternalistic AI.\\n\\nSunstein, C. R. (2024). Choice engines and paternalistic AI. Humanities and Social Sciences Communications, 11(1), 1-4.\\n\\nUnveiling the Mind of the Machine.\\n\\nClegg, M., Hofstetter, R., de Bellis, E., & Schmitt, B. H. (2024). Unveiling the Mind of the Machine. Journal of Consumer Research, 51(2), 342-361. [...] Zhang, Y., Tuk, M. A., & Klesse, A. K. (2024). Giving AI a Human Touch: Highlighting Human Input Increases the Perceived Helpfulness of Advice from AI Coaches. Journal of the Association for Consumer Research, 9(3), 000-000.\\n\\nThe impact of generative artificial intelligence on socioeconomic inequalities and policy making. [...] Acemoglu, D. (2024). The Simple Macroeconomics of AI (No. w32487). National Bureau of Economic Research. (working paper)\\n\\nConsiderations that open up a world of reflections.\\n\\nNavigating the Future of Work: Perspectives on Automation, AI, and Economic Prosperity.\\n\\nBrynjolfsson, E., Thierer, A., & Acemoglu, D. (2024). Navigating the Future of Work: Perspectives on Automation, AI, and Economic Prosperity.\", \"score\": 0.91988057}, {\"title\": \"Noteworthy AI Research Papers of 2024 (Part Two)\", \"url\": \"https://magazine.sebastianraschka.com/p/ai-research-papers-2024-part-2\", \"content\": \"A well-curated list. Another noteworthy paper in October was Microsoft's BitNet. It demonstrated something quite remarkable - they managed to run a 100B parameter language model on a single CPU while maintaining human-level reading speed (5-7 tokens per second) by using 1.58-bit quantization. This breakthrough has huge implications for making large language models accessible on local devices without requiring specialized hardware.\\n\\nShawn's avatar [...] The Phi-4 Technical Report (December 2024) by Abdin and colleagues describes the training of Microsoft's latest 14-billion-parameter open-weight LLM. What makes Phi-4 particularly interesting is that it was trained primarily on synthetic data generated by GPT-4o. According to the benchmarks, it outperforms other LLMs of a similar size, including its predecessor, Phi-3, which was trained predominantly on non-synthetic data. [...] In short, the Precision Scaling Laws paper (November 2024) extends Chinchilla's scaling laws to account for training and inference in low-precision settings (16-bit and below), which have become very popular in recent years. For instance, this paper unifies various low-precision and quantization-related observations into a single functional form that predicts the added loss from both low-precision training and post-training quantization.\\n\\n## 11.1 Chinchilla scaling laws refresher\", \"score\": 0.91399205}, {\"title\": \"Research and Development | The 2024 AI Index Report | Stanford HAI\", \"url\": \"https://hai.stanford.edu/ai-index/2024-ai-index-report/research-and-development\", \"content\": \"This chapter captures trends in AI R&D. It begins by examining AI publications, including journal articles, conference papers, and repositories. Next it considers data on significant machine learning systems, including large language and multimodal models. Finally, the chapter concludes by looking at AI conference attendance and open-source AI research.\\n\\n#### All Chapters\\n\\nIndustry continues to dominate frontier AI Research. [...] Open-source AI research explodes.\\n\\nSince 2011, the number of AI-related projects on GitHub has seen a consistent increase, growing from 845 in 2011 to approximately 1.8 million in 2023. Notably, there was a sharp 59.3% rise in the total number of GitHub AI projects in 2023 alone. The total number of stars for AI-related projects on GitHub also significantly increased in 2023, more than tripling from 4.0 million in 2022 to 12.2 million.\\n\\nThe number of AI publications continues to rise. [...] ### Stay Up To Date\\n\\nGet the latest news, advances in research, policy work, and education program updates from HAI in your inbox weekly.\\n\\nSign Up For Latest News\\n\\n###### Navigate\\n\\n###### Participate\\n\\n### Research and Development\", \"score\": 0.7923522}]\n",
      "=================================\u001b[1m Tool Message \u001b[0m=================================\n",
      "Name: arxiv\n",
      "\n",
      "Published: 2024-11-16\n",
      "Title: AI-Empowered Human Research Integrating Brain Science and Social Sciences Insights\n",
      "Authors: Feng Xiong, Xinguo Yu, Hon Wai Leong\n",
      "Summary: This paper explores the transform\n",
      "==================================\u001b[1m Ai Message \u001b[0m==================================\n",
      "\n",
      "Here are some of the recent AI research papers from 2024:\n",
      "\n",
      "1. \"Weak AI\" is Likely to Never Become \"Strong AI\", So What is its Greatest Value for us? by Bin Liu (published in 2021, but still relevant in 2024)\n",
      "2. Mixtral of Experts Approach by Mistral AI team (published in January 2024)\n",
      "3. LoRA Learns Less and Forgets Less by Biderman and colleagues (published in May 2024)\n",
      "4. Deep Seek Coder (301 citations)\n",
      "5. Choice engines and paternalistic AI by Cass Sunstein (published in 2024)\n",
      "6. Unveiling the Mind of the Machine by Michael Clegg et al. (published in 2024)\n",
      "7. Giving AI a Human Touch: Highlighting Human Input Increases the Perceived Helpfulness of Advice from AI Coaches by Y Zhang et al. (published in 2024)\n",
      "8. The Simple Macroeconomics of AI by Daron Acemoglu (working paper, published in 2024)\n",
      "9. Navigating the Future of Work: Perspectives on Automation, AI, and Economic Prosperity by Erik Brynjolfsson et al. (published in 2024)\n",
      "10. BitNet by Microsoft (published in October 2024)\n",
      "11. Phi-4 Technical Report by Abdin and colleagues (published in December 2024)\n",
      "12. Precision Scaling Laws by Chinchilla's scaling laws refresher (published in November 2024)\n",
      "\n",
      "These papers cover a range of topics in AI, including language models, AI research, AI applications, and the future of work.\n"
     ]
    }
   ],
   "source": [
    "messages=graph.invoke({\"messages\":\"What is the recent AI news and then please tell me the recent reseach paper on AI\"})\n",
    "for m in messages['messages']:\n",
    "    m.pretty_print()\n",
    "    "
   ]
  },
  {
   "cell_type": "code",
   "execution_count": null,
   "id": "dd783d63",
   "metadata": {},
   "outputs": [],
   "source": [
    "\n"
   ]
  },
  {
   "cell_type": "raw",
   "metadata": {
    "vscode": {
     "languageId": "raw"
    }
   },
   "source": [
    "\n"
   ]
  },
  {
   "cell_type": "code",
   "execution_count": null,
   "id": "03c04e84",
   "metadata": {},
   "outputs": [],
   "source": [
    "\n"
   ]
  },
  {
   "cell_type": "code",
   "execution_count": 23,
   "id": "29c704cc",
   "metadata": {},
   "outputs": [
    {
     "data": {
      "image/png": "[encoded data removed]",
      "text/plain": [
       "<IPython.core.display.Image object>"
      ]
     },
     "metadata": {},
     "output_type": "display_data"
    }
   ],
   "source": [
    "def tool_calling_llm(state:State):\n",
    "    return {\"messages\":[llm_with_tools.invoke(state[\"messages\"])]}\n",
    "\n",
    "\n",
    "from langgraph.checkpoint.memory import MemorySaver\n",
    "\n",
    "\n",
    "memory=MemorySaver()\n",
    "\n",
    "builder=StateGraph(State)\n",
    "\n",
    "builder.add_node(\"tool_calling_llm\",tool_calling_llm)\n",
    "builder.add_node(\"tools\",ToolNode(tools=tools))\n",
    "\n",
    "\n",
    "\n",
    "#add edges\n",
    "builder.add_edge(START, \"tool_calling_llm\")\n",
    "builder.add_conditional_edges(\"tool_calling_llm\", tools_condition)\n",
    "\n",
    "builder.add_edge(\"tools\", \"tool_calling_llm\")\n",
    "\n",
    "\n",
    "\n",
    "graph=builder.compile(checkpointer=memory)\n",
    "\n",
    "\n",
    "display(Image(graph.get_graph().draw_mermaid_png()))\n",
    "\n",
    "\n",
    "\n",
    "\n",
    "\n",
    "\n"
   ]
  },
  {
   "cell_type": "code",
   "execution_count": 24,
   "id": "9107f8cc",
   "metadata": {},
   "outputs": [
    {
     "data": {
      "text/plain": [
       "{'messages': [HumanMessage(content='my name is aly', additional_kwargs={}, response_metadata={}, id='25dec1f5-c894-40e5-9094-e032f613cf20'),\n",
       "  AIMessage(content='', additional_kwargs={'tool_calls': [{'id': 'v4tqszer1', 'function': {'arguments': '{\"query\":\"Aly\"}', 'name': 'wikipedia'}, 'type': 'function'}]}, response_metadata={'token_usage': {'completion_tokens': 15, 'prompt_tokens': 394, 'total_tokens': 409, 'completion_time': 0.026193185, 'prompt_time': 0.171946009, 'queue_time': 0.09075063499999997, 'total_time': 0.198139194}, 'model_name': 'llama-3.1-8b-instant', 'system_fingerprint': 'fp_c523237e5d', 'service_tier': 'on_demand', 'finish_reason': 'tool_calls', 'logprobs': None}, id='run--76b8c611-ba79-4930-a8c2-f33613be4d6a-0', tool_calls=[{'name': 'wikipedia', 'args': {'query': 'Aly'}, 'id': 'v4tqszer1', 'type': 'tool_call'}], usage_metadata={'input_tokens': 394, 'output_tokens': 15, 'total_tokens': 409}),\n",
       "  ToolMessage(content=\"Page: Aly Goni\\nSummary: Aly Goni (born 25 February 1991) is an Indian actor and model who appears in Hindi television. He made his debut through participating in MTV's dating reality show Splitsvilla \", name='wikipedia', id='8feb0f8a-dc61-4cba-9695-611a38046aa6', tool_call_id='v4tqszer1'),\n",
       "  AIMessage(content='', additional_kwargs={'tool_calls': [{'id': 'dbv8k6bhh', 'function': {'arguments': '{\"query\":\"Aly Goni\"}', 'name': 'tavily_search_results_json'}, 'type': 'function'}]}, response_metadata={'token_usage': {'completion_tokens': 21, 'prompt_tokens': 467, 'total_tokens': 488, 'completion_time': 0.028, 'prompt_time': 0.740340633, 'queue_time': 0.09158145299999998, 'total_time': 0.768340633}, 'model_name': 'llama-3.1-8b-instant', 'system_fingerprint': 'fp_c523237e5d', 'service_tier': 'on_demand', 'finish_reason': 'tool_calls', 'logprobs': None}, id='run--beb76ff4-162e-4177-ad75-63aa04d8d7ba-0', tool_calls=[{'name': 'tavily_search_results_json', 'args': {'query': 'Aly Goni'}, 'id': 'dbv8k6bhh', 'type': 'tool_call'}], usage_metadata={'input_tokens': 467, 'output_tokens': 21, 'total_tokens': 488}),\n",
       "  ToolMessage(content='[{\"title\": \"Aly Goni - Wikipedia\", \"url\": \"https://en.wikipedia.org/wiki/Aly_Goni\", \"content\": \"Aly Goni (born 25 February 1991) is an Indian actor and model who appears in Hindi television. He made his debut through participating in MTV\\'s dating reality show Splitsvilla 5. Goni rose to fame after portraying Romesh Bhalla in StarPlus\\'s romantic Yeh Hai Mohabbatein till 2019. He has also participated in stunt-based reality show Khatron Ke Khiladi 9, and Nach Baliye 9 both in 2019. [...] Wikipedia\\\\nThe Free Encyclopedia\\\\n\\\\n## Contents\\\\n\\\\n# Aly Goni\\\\n\\\\n| Aly Goni | |\\\\n| --- | --- |\\\\n| Goni in 2018 | |\\\\n| Born | (1991-02-25) 25 February 1991 (age 34)  Bhaderwah, Jammu & Kashmir \\\\\"Jammu and Kashmir (state)\\\\\"), India |\\\\n| Occupations |  Actor  model \\\\\"Model (person)\\\\\") |\\\\n| Years active | 2012–present |\\\\n| Partner | Jasmin Bhasin (2021- Present) | [...] Aly Goni was born on 25 February 1991 to a Muslim family in Bhaderwah, Jammu & Kashmir \\\\\"Jammu and Kashmir (state)\\\\\"). He is the son of Amjad Goni and Ruby Goni and has a sister named Ilham Goni. Aly Goni met actress Jasmin Bhasin on airport in 2018 when they were leaving for Fear Factor: Khatron Ke Khiladi 9. Later the two begun dating each other in 2021 after appearing in Bigg Boss 14.\\\\n\\\\n## Career\\\\n\\\\nIn 2012, Aly started his career by participating in the reality show MTV Splitsvilla 5.\", \"score\": 0.9412289}, {\"title\": \"Aly Goni Opens Up About His Marriage Plans With Girlfriend ...\", \"url\": \"https://www.bollywoodshaadis.com/articles/aly-goni-reveals-his-marriage-plans-with-longtime-girlfriend-jasmine-bhasin-66348\", \"content\": \"Aly Goni is an Indian television actor, who got fame with the show, Yeh Hai Mohabbatein. He is known for his charming looks, humour and natural personality. Apart from TV shows, he participated in reality shows as well. He was last seen and loved in Laughter Chefs, alongside talented actors like Bharti Singh, Krushna Abhishek, Harpal Singh Sokhi, Ankita Lokhande and more.\\\\n\\\\nADVT.\\\\n\\\\nadvertisement\\\\n\\\\nAly [...] Aly Goni is an Indian television actor, who got fame with the show, Yeh Hai Mohabbatein. He is known for his charming looks, humour and natural personality. Apart from TV shows, he participated in reality shows as well. He was last seen and loved in Laughter Chefs, alongside talented actors like Bharti Singh, Krushna Abhishek, Harpal Singh Sokhi, Ankita Lokhande and more.\\\\n\\\\nADVT.\\\\n\\\\nadvertisement\\\\n\\\\nAly [...] Aly Goni is an Indian television actor, who got fame with the show, Yeh Hai Mohabbatein. He is known for his charming looks, humour and natural personality. Apart from TV shows, he participated in reality shows as well. He was last seen and loved in Laughter Chefs, alongside talented actors like Bharti Singh, Krushna Abhishek, Harpal Singh Sokhi, Ankita Lokhande and more.\\\\n\\\\nADVT.\\\\n\\\\nadvertisement\\\\n\\\\nAly\", \"score\": 0.9121316}, {\"title\": \"Aly Goni birth date - Celebrity Horoscope - AstroSage\", \"url\": \"https://celebrity.astrosage.com/about-aly-goni-who-is-aly-goni.asp\", \"content\": \"Aly Goni are a very practical person and equally capable. Aly Goni are very tidy by nature, Aly Goni love order and are methodical. It is even possible that these qualities are too highly developed in Aly Goni, and it may be that while attending to minute details, Aly Goni lose some of the larger opportunities of life.Aly Goni are sensitive and generous. Were Aly Goni to hear of a case of want or somebody in dire distress, it is unthinkable that Aly Goni would pass by and not hold out a helping [...] hand.Aly Goni are a hesitant person. Though Aly Goni have the qualities for making Aly Goni\\'s way in the world and it is within Aly Goni\\'s powers to climb high up the ladder of success, the necessary qualities to carry Aly Goni through and while Aly Goni are wondering some more pushing but less well-equipped person steps into Aly Goni\\'s place. Therefore do not think much of Aly Goni\\'s mythical limitations. Take it for granted that Aly Goni will succeed and Aly Goni will.Aly Goni are calculative [...] Free Kundli & Horoscope Matching\\\\n\\\\nFree Kundli & Horoscope Matching\\\\nFree Kundli & Horoscope Matching\\\\n\\\\nVarta Astrologers\\\\nBrihat Horoscope\\\\nVarta Live Banner\\\\n\\\\n## Celebrity Horoscope Search By\\\\n\\\\n# About Aly Goni / Aly Goni Biography\\\\n\\\\nAly Goni Horoscope and Astrology\\\\n\\\\n##### Name:\\\\n\\\\nAly Goni\\\\n\\\\n##### Date of Birth:\\\\n\\\\nFeb 25, 1991\\\\n\\\\n##### Time of Birth:\\\\n\\\\n12:00:00\\\\n\\\\n##### Place of Birth:\\\\n\\\\nBhadarwah\\\\n\\\\n##### Longitude:\\\\n\\\\n75 E 47\\\\n\\\\n##### Latitude:\\\\n\\\\n32 N 56\\\\n\\\\n##### Time Zone:\\\\n\\\\n5.5\\\\n\\\\n##### Information Source:\\\\n\\\\nDirty Data\", \"score\": 0.7876867}, {\"title\": \"Aly Goni (Bigg Boss 14) Height, Age, Girlfriend, Family, Biography ...\", \"url\": \"https://starsunfolded.com/aly-goni/\", \"content\": \"| Date of Birth | 25 February 1991 (Monday) |\\\\n| Age (as of 2025) | 34 Years |\\\\n| Birthplace | Bhaderwah, Jammu & Kashmir, India |\\\\n| Zodiac sign | Pisces |\\\\n| Nationality | Indian |\\\\n| Hometown | Bhaderwah, Jammu & Kashmir, India |\\\\n| Religion | Islam |\\\\n| Ethnicity | Kashmiri Muslim (#f+107593+1+1)India Today |\\\\n| Food Habit | Non-Vegetarian  Aly Goni having foodAly Goni having food |\\\\n| Hobbies | Gymming, Travelling, Swimming | [...] | Date of Birth | 25 February 1991 (Monday) |\\\\n| Age (as of 2025) | 34 Years |\\\\n| Birthplace | Bhaderwah, Jammu & Kashmir, India |\\\\n| Zodiac sign | Pisces |\\\\n| Nationality | Indian |\\\\n| Hometown | Bhaderwah, Jammu & Kashmir, India |\\\\n| Religion | Islam |\\\\n| Ethnicity | Kashmiri Muslim (#f+107593+1+1)India Today |\\\\n| Food Habit | Non-Vegetarian  Aly Goni having foodAly Goni having food |\\\\n| Hobbies | Gymming, Travelling, Swimming | [...] | Bio/Wiki | |\\\\n| --- | --- |\\\\n| Profession | Actor |\\\\n| Famous Role | ‘Romi Bhalla’ in the TV serial “Yeh Hai Mohabbatein”  Aly Goni in Yeh Hai MohabbateinAly Goni in Yeh Hai Mohabbatein |\\\\n| Physical Stats & More | |\\\\n| Height (approx.) | in centimeters- 185 cm  in meters- 1.85 m  in feet & inches- 6’ 1” |\\\\n| Eye Colour | Black |\\\\n| Hair Colour | Black |\\\\n| Career | |\\\\n| Debut | TV: MTV Splitsvilla: Season 5 (2012)  Aly Goni in Splitsvilla 5Aly Goni in Splitsvilla 5 |\\\\n| Personal Life | |\", \"score\": 0.69049704}, {\"title\": \"Aly Goni - Age, Family, Bio | Famous Birthdays\", \"url\": \"https://www.famousbirthdays.com/people/aly-goni.html\", \"content\": \"# Aly Goni\\\\n\\\\nTV Actor\\\\n\\\\nBirthday \\\\n\\\\nFebruary 25, 1991\\\\n\\\\nBirth Sign\\\\nPisces\\\\n\\\\nBirthplace\\\\n\\\\nIndia\\\\n\\\\nAge \\\\n34 years old\\\\n\\\\n#136,770\\\\nMost Popular\\\\n\\\\n## About\\\\n\\\\nActor and television star who first rose to fame appearing on the sixth series of MTV\\'s Splitsvilla. He has since starred in prominent roles on Ye Hai Mohabbatein, Kuch Toh Hai Tere Mere Darmiyaan, and Yeh Kahan Aa Gaye Hum.\\\\n\\\\n## Before Fame [...] While attending college in 2011, he won a modeling competition organized by Indian Film & Television Institute, kickstarting his career.\\\\n\\\\n## Trivia\\\\n\\\\nAn athlete, he has played as a star on Box Cricket League for team Jaipur-Raj Joshiley.\\\\n\\\\n## Family Life\\\\n\\\\nHis father\\'s name is Amjad Goni.\\\\n\\\\n## Associated With\\\\n\\\\nHe is the parallel male lead to Karan Kundra\\'s character in the musical soap opera Yeh Kahan Aa Gaye Hum.\\\\n\\\\n## Popularity\\\\n\\\\n## Aly Goni Is A Member Of\\\\n\\\\n34 Year Olds\\\\n\\\\n34 Year Olds\\\\n\\\\nTV Actors [...] TV Actors\\\\n\\\\nFirst Name Aly\\\\n\\\\nFirst Name Aly\\\\n\\\\nPisces\\\\n\\\\nPisces\\\\n\\\\n## Aly Goni Fans Also Viewed\\\\n\\\\nDrew Starkey\\\\n\\\\nDrew Starkey\\\\n\\\\nTV Actor\\\\n\\\\nDenny Love\\\\n\\\\nDenny Love\\\\n\\\\nTV Actor\\\\n\\\\nCole Sprouse\\\\n\\\\nCole Sprouse\\\\n\\\\nTV Actor\\\\n\\\\nDylan O\\'Brien\\\\n\\\\nDylan O\\'Brien\\\\n\\\\nTV Actor\\\\n\\\\n## More February 25 Birthdays\\\\n\\\\nNoah Jupe\\\\n\\\\nNoah Jupe\\\\n\\\\nMovie Actor\\\\n\\\\nAyoslimybj\\\\n\\\\nAyoslimybj\\\\n\\\\nTikTok Star\\\\n\\\\n## More Pisces\\\\n\\\\nJafia Valencia\\\\n\\\\nJafia Valencia\\\\n\\\\nTikTok Star\\\\n\\\\nDemitra Mia Kalogeras\\\\n\\\\nDemitra Mia Kalogeras\\\\n\\\\nTikTok Star\", \"score\": 0.63397753}]', name='tavily_search_results_json', id='6474c54d-5d61-4fa8-ac2f-e42ec5aaebce', tool_call_id='dbv8k6bhh', artifact={'query': 'Aly Goni', 'follow_up_questions': None, 'answer': None, 'images': [], 'results': [{'url': 'https://en.wikipedia.org/wiki/Aly_Goni', 'title': 'Aly Goni - Wikipedia', 'content': 'Aly Goni (born 25 February 1991) is an Indian actor and model who appears in Hindi television. He made his debut through participating in MTV\\'s dating reality show Splitsvilla 5. Goni rose to fame after portraying Romesh Bhalla in StarPlus\\'s romantic Yeh Hai Mohabbatein till 2019. He has also participated in stunt-based reality show Khatron Ke Khiladi 9, and Nach Baliye 9 both in 2019. [...] Wikipedia\\nThe Free Encyclopedia\\n\\n## Contents\\n\\n# Aly Goni\\n\\n| Aly Goni | |\\n| --- | --- |\\n| Goni in 2018 | |\\n| Born | (1991-02-25) 25 February 1991 (age 34)  Bhaderwah, Jammu & Kashmir \"Jammu and Kashmir (state)\"), India |\\n| Occupations |  Actor  model \"Model (person)\") |\\n| Years active | 2012–present |\\n| Partner | Jasmin Bhasin (2021- Present) | [...] Aly Goni was born on 25 February 1991 to a Muslim family in Bhaderwah, Jammu & Kashmir \"Jammu and Kashmir (state)\"). He is the son of Amjad Goni and Ruby Goni and has a sister named Ilham Goni. Aly Goni met actress Jasmin Bhasin on airport in 2018 when they were leaving for Fear Factor: Khatron Ke Khiladi 9. Later the two begun dating each other in 2021 after appearing in Bigg Boss 14.\\n\\n## Career\\n\\nIn 2012, Aly started his career by participating in the reality show MTV Splitsvilla 5.', 'score': 0.9412289, 'raw_content': None}, {'url': 'https://www.bollywoodshaadis.com/articles/aly-goni-reveals-his-marriage-plans-with-longtime-girlfriend-jasmine-bhasin-66348', 'title': 'Aly Goni Opens Up About His Marriage Plans With Girlfriend ...', 'content': 'Aly Goni is an Indian television actor, who got fame with the show, Yeh Hai Mohabbatein. He is known for his charming looks, humour and natural personality. Apart from TV shows, he participated in reality shows as well. He was last seen and loved in Laughter Chefs, alongside talented actors like Bharti Singh, Krushna Abhishek, Harpal Singh Sokhi, Ankita Lokhande and more.\\n\\nADVT.\\n\\nadvertisement\\n\\nAly [...] Aly Goni is an Indian television actor, who got fame with the show, Yeh Hai Mohabbatein. He is known for his charming looks, humour and natural personality. Apart from TV shows, he participated in reality shows as well. He was last seen and loved in Laughter Chefs, alongside talented actors like Bharti Singh, Krushna Abhishek, Harpal Singh Sokhi, Ankita Lokhande and more.\\n\\nADVT.\\n\\nadvertisement\\n\\nAly [...] Aly Goni is an Indian television actor, who got fame with the show, Yeh Hai Mohabbatein. He is known for his charming looks, humour and natural personality. Apart from TV shows, he participated in reality shows as well. He was last seen and loved in Laughter Chefs, alongside talented actors like Bharti Singh, Krushna Abhishek, Harpal Singh Sokhi, Ankita Lokhande and more.\\n\\nADVT.\\n\\nadvertisement\\n\\nAly', 'score': 0.9121316, 'raw_content': None}, {'url': 'https://celebrity.astrosage.com/about-aly-goni-who-is-aly-goni.asp', 'title': 'Aly Goni birth date - Celebrity Horoscope - AstroSage', 'content': \"Aly Goni are a very practical person and equally capable. Aly Goni are very tidy by nature, Aly Goni love order and are methodical. It is even possible that these qualities are too highly developed in Aly Goni, and it may be that while attending to minute details, Aly Goni lose some of the larger opportunities of life.Aly Goni are sensitive and generous. Were Aly Goni to hear of a case of want or somebody in dire distress, it is unthinkable that Aly Goni would pass by and not hold out a helping [...] hand.Aly Goni are a hesitant person. Though Aly Goni have the qualities for making Aly Goni's way in the world and it is within Aly Goni's powers to climb high up the ladder of success, the necessary qualities to carry Aly Goni through and while Aly Goni are wondering some more pushing but less well-equipped person steps into Aly Goni's place. Therefore do not think much of Aly Goni's mythical limitations. Take it for granted that Aly Goni will succeed and Aly Goni will.Aly Goni are calculative [...] Free Kundli & Horoscope Matching\\n\\nFree Kundli & Horoscope Matching\\nFree Kundli & Horoscope Matching\\n\\nVarta Astrologers\\nBrihat Horoscope\\nVarta Live Banner\\n\\n## Celebrity Horoscope Search By\\n\\n# About Aly Goni / Aly Goni Biography\\n\\nAly Goni Horoscope and Astrology\\n\\n##### Name:\\n\\nAly Goni\\n\\n##### Date of Birth:\\n\\nFeb 25, 1991\\n\\n##### Time of Birth:\\n\\n12:00:00\\n\\n##### Place of Birth:\\n\\nBhadarwah\\n\\n##### Longitude:\\n\\n75 E 47\\n\\n##### Latitude:\\n\\n32 N 56\\n\\n##### Time Zone:\\n\\n5.5\\n\\n##### Information Source:\\n\\nDirty Data\", 'score': 0.7876867, 'raw_content': None}, {'url': 'https://starsunfolded.com/aly-goni/', 'title': 'Aly Goni (Bigg Boss 14) Height, Age, Girlfriend, Family, Biography ...', 'content': '| Date of Birth | 25 February 1991 (Monday) |\\n| Age (as of 2025) | 34 Years |\\n| Birthplace | Bhaderwah, Jammu & Kashmir, India |\\n| Zodiac sign | Pisces |\\n| Nationality | Indian |\\n| Hometown | Bhaderwah, Jammu & Kashmir, India |\\n| Religion | Islam |\\n| Ethnicity | Kashmiri Muslim (#f+107593+1+1)India Today |\\n| Food Habit | Non-Vegetarian  Aly Goni having foodAly Goni having food |\\n| Hobbies | Gymming, Travelling, Swimming | [...] | Date of Birth | 25 February 1991 (Monday) |\\n| Age (as of 2025) | 34 Years |\\n| Birthplace | Bhaderwah, Jammu & Kashmir, India |\\n| Zodiac sign | Pisces |\\n| Nationality | Indian |\\n| Hometown | Bhaderwah, Jammu & Kashmir, India |\\n| Religion | Islam |\\n| Ethnicity | Kashmiri Muslim (#f+107593+1+1)India Today |\\n| Food Habit | Non-Vegetarian  Aly Goni having foodAly Goni having food |\\n| Hobbies | Gymming, Travelling, Swimming | [...] | Bio/Wiki | |\\n| --- | --- |\\n| Profession | Actor |\\n| Famous Role | ‘Romi Bhalla’ in the TV serial “Yeh Hai Mohabbatein”  Aly Goni in Yeh Hai MohabbateinAly Goni in Yeh Hai Mohabbatein |\\n| Physical Stats & More | |\\n| Height (approx.) | in centimeters- 185 cm  in meters- 1.85 m  in feet & inches- 6’ 1” |\\n| Eye Colour | Black |\\n| Hair Colour | Black |\\n| Career | |\\n| Debut | TV: MTV Splitsvilla: Season 5 (2012)  Aly Goni in Splitsvilla 5Aly Goni in Splitsvilla 5 |\\n| Personal Life | |', 'score': 0.69049704, 'raw_content': None}, {'url': 'https://www.famousbirthdays.com/people/aly-goni.html', 'title': 'Aly Goni - Age, Family, Bio | Famous Birthdays', 'content': \"# Aly Goni\\n\\nTV Actor\\n\\nBirthday \\n\\nFebruary 25, 1991\\n\\nBirth Sign\\nPisces\\n\\nBirthplace\\n\\nIndia\\n\\nAge \\n34 years old\\n\\n#136,770\\nMost Popular\\n\\n## About\\n\\nActor and television star who first rose to fame appearing on the sixth series of MTV's Splitsvilla. He has since starred in prominent roles on Ye Hai Mohabbatein, Kuch Toh Hai Tere Mere Darmiyaan, and Yeh Kahan Aa Gaye Hum.\\n\\n## Before Fame [...] While attending college in 2011, he won a modeling competition organized by Indian Film & Television Institute, kickstarting his career.\\n\\n## Trivia\\n\\nAn athlete, he has played as a star on Box Cricket League for team Jaipur-Raj Joshiley.\\n\\n## Family Life\\n\\nHis father's name is Amjad Goni.\\n\\n## Associated With\\n\\nHe is the parallel male lead to Karan Kundra's character in the musical soap opera Yeh Kahan Aa Gaye Hum.\\n\\n## Popularity\\n\\n## Aly Goni Is A Member Of\\n\\n34 Year Olds\\n\\n34 Year Olds\\n\\nTV Actors [...] TV Actors\\n\\nFirst Name Aly\\n\\nFirst Name Aly\\n\\nPisces\\n\\nPisces\\n\\n## Aly Goni Fans Also Viewed\\n\\nDrew Starkey\\n\\nDrew Starkey\\n\\nTV Actor\\n\\nDenny Love\\n\\nDenny Love\\n\\nTV Actor\\n\\nCole Sprouse\\n\\nCole Sprouse\\n\\nTV Actor\\n\\nDylan O'Brien\\n\\nDylan O'Brien\\n\\nTV Actor\\n\\n## More February 25 Birthdays\\n\\nNoah Jupe\\n\\nNoah Jupe\\n\\nMovie Actor\\n\\nAyoslimybj\\n\\nAyoslimybj\\n\\nTikTok Star\\n\\n## More Pisces\\n\\nJafia Valencia\\n\\nJafia Valencia\\n\\nTikTok Star\\n\\nDemitra Mia Kalogeras\\n\\nDemitra Mia Kalogeras\\n\\nTikTok Star\", 'score': 0.63397753, 'raw_content': None}], 'response_time': 1.68}),\n",
       "  AIMessage(content=\"Based on the search results, Aly Goni is an Indian actor and model who appears in Hindi television. He was born on February 25, 1991, in Bhaderwah, Jammu & Kashmir, India. He rose to fame after portraying Romesh Bhalla in StarPlus's romantic Yeh Hai Mohabbatein till 2019. He has also participated in stunt-based reality shows like Khatron Ke Khiladi 9 and Nach Baliye 9. Aly Goni is currently in a relationship with his co-contestant Jasmin Bhasin from Bigg Boss 14.\", additional_kwargs={}, response_metadata={'token_usage': {'completion_tokens': 126, 'prompt_tokens': 2773, 'total_tokens': 2899, 'completion_time': 0.221160718, 'prompt_time': 0.62106041, 'queue_time': 0.114801492, 'total_time': 0.842221128}, 'model_name': 'llama-3.1-8b-instant', 'system_fingerprint': 'fp_c523237e5d', 'service_tier': 'on_demand', 'finish_reason': 'stop', 'logprobs': None}, id='run--19a2dbf0-e11e-4463-9465-71d2fa433895-0', usage_metadata={'input_tokens': 2773, 'output_tokens': 126, 'total_tokens': 2899})]}"
      ]
     },
     "execution_count": 24,
     "metadata": {},
     "output_type": "execute_result"
    }
   ],
   "source": [
    "config={\"configurable\": {\"thread_id\": \"2\"}}\n",
    "\n",
    "\n",
    "response=graph.invoke({\"messages\":[\"my name is aly\"]},config=config)\n",
    "\n",
    "response\n",
    "\n",
    "\n",
    "\n",
    "\n",
    "\n",
    "\n",
    "\n",
    "\n"
   ]
  },
  {
   "cell_type": "code",
   "execution_count": 25,
   "id": "5f70c4fa",
   "metadata": {},
   "outputs": [
    {
     "data": {
      "text/plain": [
       "{'messages': [HumanMessage(content='my name is aly', additional_kwargs={}, response_metadata={}, id='25dec1f5-c894-40e5-9094-e032f613cf20'),\n",
       "  AIMessage(content='', additional_kwargs={'tool_calls': [{'id': 'v4tqszer1', 'function': {'arguments': '{\"query\":\"Aly\"}', 'name': 'wikipedia'}, 'type': 'function'}]}, response_metadata={'token_usage': {'completion_tokens': 15, 'prompt_tokens': 394, 'total_tokens': 409, 'completion_time': 0.026193185, 'prompt_time': 0.171946009, 'queue_time': 0.09075063499999997, 'total_time': 0.198139194}, 'model_name': 'llama-3.1-8b-instant', 'system_fingerprint': 'fp_c523237e5d', 'service_tier': 'on_demand', 'finish_reason': 'tool_calls', 'logprobs': None}, id='run--76b8c611-ba79-4930-a8c2-f33613be4d6a-0', tool_calls=[{'name': 'wikipedia', 'args': {'query': 'Aly'}, 'id': 'v4tqszer1', 'type': 'tool_call'}], usage_metadata={'input_tokens': 394, 'output_tokens': 15, 'total_tokens': 409}),\n",
       "  ToolMessage(content=\"Page: Aly Goni\\nSummary: Aly Goni (born 25 February 1991) is an Indian actor and model who appears in Hindi television. He made his debut through participating in MTV's dating reality show Splitsvilla \", name='wikipedia', id='8feb0f8a-dc61-4cba-9695-611a38046aa6', tool_call_id='v4tqszer1'),\n",
       "  AIMessage(content='', additional_kwargs={'tool_calls': [{'id': 'dbv8k6bhh', 'function': {'arguments': '{\"query\":\"Aly Goni\"}', 'name': 'tavily_search_results_json'}, 'type': 'function'}]}, response_metadata={'token_usage': {'completion_tokens': 21, 'prompt_tokens': 467, 'total_tokens': 488, 'completion_time': 0.028, 'prompt_time': 0.740340633, 'queue_time': 0.09158145299999998, 'total_time': 0.768340633}, 'model_name': 'llama-3.1-8b-instant', 'system_fingerprint': 'fp_c523237e5d', 'service_tier': 'on_demand', 'finish_reason': 'tool_calls', 'logprobs': None}, id='run--beb76ff4-162e-4177-ad75-63aa04d8d7ba-0', tool_calls=[{'name': 'tavily_search_results_json', 'args': {'query': 'Aly Goni'}, 'id': 'dbv8k6bhh', 'type': 'tool_call'}], usage_metadata={'input_tokens': 467, 'output_tokens': 21, 'total_tokens': 488}),\n",
       "  ToolMessage(content='[{\"title\": \"Aly Goni - Wikipedia\", \"url\": \"https://en.wikipedia.org/wiki/Aly_Goni\", \"content\": \"Aly Goni (born 25 February 1991) is an Indian actor and model who appears in Hindi television. He made his debut through participating in MTV\\'s dating reality show Splitsvilla 5. Goni rose to fame after portraying Romesh Bhalla in StarPlus\\'s romantic Yeh Hai Mohabbatein till 2019. He has also participated in stunt-based reality show Khatron Ke Khiladi 9, and Nach Baliye 9 both in 2019. [...] Wikipedia\\\\nThe Free Encyclopedia\\\\n\\\\n## Contents\\\\n\\\\n# Aly Goni\\\\n\\\\n| Aly Goni | |\\\\n| --- | --- |\\\\n| Goni in 2018 | |\\\\n| Born | (1991-02-25) 25 February 1991 (age 34)  Bhaderwah, Jammu & Kashmir \\\\\"Jammu and Kashmir (state)\\\\\"), India |\\\\n| Occupations |  Actor  model \\\\\"Model (person)\\\\\") |\\\\n| Years active | 2012–present |\\\\n| Partner | Jasmin Bhasin (2021- Present) | [...] Aly Goni was born on 25 February 1991 to a Muslim family in Bhaderwah, Jammu & Kashmir \\\\\"Jammu and Kashmir (state)\\\\\"). He is the son of Amjad Goni and Ruby Goni and has a sister named Ilham Goni. Aly Goni met actress Jasmin Bhasin on airport in 2018 when they were leaving for Fear Factor: Khatron Ke Khiladi 9. Later the two begun dating each other in 2021 after appearing in Bigg Boss 14.\\\\n\\\\n## Career\\\\n\\\\nIn 2012, Aly started his career by participating in the reality show MTV Splitsvilla 5.\", \"score\": 0.9412289}, {\"title\": \"Aly Goni Opens Up About His Marriage Plans With Girlfriend ...\", \"url\": \"https://www.bollywoodshaadis.com/articles/aly-goni-reveals-his-marriage-plans-with-longtime-girlfriend-jasmine-bhasin-66348\", \"content\": \"Aly Goni is an Indian television actor, who got fame with the show, Yeh Hai Mohabbatein. He is known for his charming looks, humour and natural personality. Apart from TV shows, he participated in reality shows as well. He was last seen and loved in Laughter Chefs, alongside talented actors like Bharti Singh, Krushna Abhishek, Harpal Singh Sokhi, Ankita Lokhande and more.\\\\n\\\\nADVT.\\\\n\\\\nadvertisement\\\\n\\\\nAly [...] Aly Goni is an Indian television actor, who got fame with the show, Yeh Hai Mohabbatein. He is known for his charming looks, humour and natural personality. Apart from TV shows, he participated in reality shows as well. He was last seen and loved in Laughter Chefs, alongside talented actors like Bharti Singh, Krushna Abhishek, Harpal Singh Sokhi, Ankita Lokhande and more.\\\\n\\\\nADVT.\\\\n\\\\nadvertisement\\\\n\\\\nAly [...] Aly Goni is an Indian television actor, who got fame with the show, Yeh Hai Mohabbatein. He is known for his charming looks, humour and natural personality. Apart from TV shows, he participated in reality shows as well. He was last seen and loved in Laughter Chefs, alongside talented actors like Bharti Singh, Krushna Abhishek, Harpal Singh Sokhi, Ankita Lokhande and more.\\\\n\\\\nADVT.\\\\n\\\\nadvertisement\\\\n\\\\nAly\", \"score\": 0.9121316}, {\"title\": \"Aly Goni birth date - Celebrity Horoscope - AstroSage\", \"url\": \"https://celebrity.astrosage.com/about-aly-goni-who-is-aly-goni.asp\", \"content\": \"Aly Goni are a very practical person and equally capable. Aly Goni are very tidy by nature, Aly Goni love order and are methodical. It is even possible that these qualities are too highly developed in Aly Goni, and it may be that while attending to minute details, Aly Goni lose some of the larger opportunities of life.Aly Goni are sensitive and generous. Were Aly Goni to hear of a case of want or somebody in dire distress, it is unthinkable that Aly Goni would pass by and not hold out a helping [...] hand.Aly Goni are a hesitant person. Though Aly Goni have the qualities for making Aly Goni\\'s way in the world and it is within Aly Goni\\'s powers to climb high up the ladder of success, the necessary qualities to carry Aly Goni through and while Aly Goni are wondering some more pushing but less well-equipped person steps into Aly Goni\\'s place. Therefore do not think much of Aly Goni\\'s mythical limitations. Take it for granted that Aly Goni will succeed and Aly Goni will.Aly Goni are calculative [...] Free Kundli & Horoscope Matching\\\\n\\\\nFree Kundli & Horoscope Matching\\\\nFree Kundli & Horoscope Matching\\\\n\\\\nVarta Astrologers\\\\nBrihat Horoscope\\\\nVarta Live Banner\\\\n\\\\n## Celebrity Horoscope Search By\\\\n\\\\n# About Aly Goni / Aly Goni Biography\\\\n\\\\nAly Goni Horoscope and Astrology\\\\n\\\\n##### Name:\\\\n\\\\nAly Goni\\\\n\\\\n##### Date of Birth:\\\\n\\\\nFeb 25, 1991\\\\n\\\\n##### Time of Birth:\\\\n\\\\n12:00:00\\\\n\\\\n##### Place of Birth:\\\\n\\\\nBhadarwah\\\\n\\\\n##### Longitude:\\\\n\\\\n75 E 47\\\\n\\\\n##### Latitude:\\\\n\\\\n32 N 56\\\\n\\\\n##### Time Zone:\\\\n\\\\n5.5\\\\n\\\\n##### Information Source:\\\\n\\\\nDirty Data\", \"score\": 0.7876867}, {\"title\": \"Aly Goni (Bigg Boss 14) Height, Age, Girlfriend, Family, Biography ...\", \"url\": \"https://starsunfolded.com/aly-goni/\", \"content\": \"| Date of Birth | 25 February 1991 (Monday) |\\\\n| Age (as of 2025) | 34 Years |\\\\n| Birthplace | Bhaderwah, Jammu & Kashmir, India |\\\\n| Zodiac sign | Pisces |\\\\n| Nationality | Indian |\\\\n| Hometown | Bhaderwah, Jammu & Kashmir, India |\\\\n| Religion | Islam |\\\\n| Ethnicity | Kashmiri Muslim (#f+107593+1+1)India Today |\\\\n| Food Habit | Non-Vegetarian  Aly Goni having foodAly Goni having food |\\\\n| Hobbies | Gymming, Travelling, Swimming | [...] | Date of Birth | 25 February 1991 (Monday) |\\\\n| Age (as of 2025) | 34 Years |\\\\n| Birthplace | Bhaderwah, Jammu & Kashmir, India |\\\\n| Zodiac sign | Pisces |\\\\n| Nationality | Indian |\\\\n| Hometown | Bhaderwah, Jammu & Kashmir, India |\\\\n| Religion | Islam |\\\\n| Ethnicity | Kashmiri Muslim (#f+107593+1+1)India Today |\\\\n| Food Habit | Non-Vegetarian  Aly Goni having foodAly Goni having food |\\\\n| Hobbies | Gymming, Travelling, Swimming | [...] | Bio/Wiki | |\\\\n| --- | --- |\\\\n| Profession | Actor |\\\\n| Famous Role | ‘Romi Bhalla’ in the TV serial “Yeh Hai Mohabbatein”  Aly Goni in Yeh Hai MohabbateinAly Goni in Yeh Hai Mohabbatein |\\\\n| Physical Stats & More | |\\\\n| Height (approx.) | in centimeters- 185 cm  in meters- 1.85 m  in feet & inches- 6’ 1” |\\\\n| Eye Colour | Black |\\\\n| Hair Colour | Black |\\\\n| Career | |\\\\n| Debut | TV: MTV Splitsvilla: Season 5 (2012)  Aly Goni in Splitsvilla 5Aly Goni in Splitsvilla 5 |\\\\n| Personal Life | |\", \"score\": 0.69049704}, {\"title\": \"Aly Goni - Age, Family, Bio | Famous Birthdays\", \"url\": \"https://www.famousbirthdays.com/people/aly-goni.html\", \"content\": \"# Aly Goni\\\\n\\\\nTV Actor\\\\n\\\\nBirthday \\\\n\\\\nFebruary 25, 1991\\\\n\\\\nBirth Sign\\\\nPisces\\\\n\\\\nBirthplace\\\\n\\\\nIndia\\\\n\\\\nAge \\\\n34 years old\\\\n\\\\n#136,770\\\\nMost Popular\\\\n\\\\n## About\\\\n\\\\nActor and television star who first rose to fame appearing on the sixth series of MTV\\'s Splitsvilla. He has since starred in prominent roles on Ye Hai Mohabbatein, Kuch Toh Hai Tere Mere Darmiyaan, and Yeh Kahan Aa Gaye Hum.\\\\n\\\\n## Before Fame [...] While attending college in 2011, he won a modeling competition organized by Indian Film & Television Institute, kickstarting his career.\\\\n\\\\n## Trivia\\\\n\\\\nAn athlete, he has played as a star on Box Cricket League for team Jaipur-Raj Joshiley.\\\\n\\\\n## Family Life\\\\n\\\\nHis father\\'s name is Amjad Goni.\\\\n\\\\n## Associated With\\\\n\\\\nHe is the parallel male lead to Karan Kundra\\'s character in the musical soap opera Yeh Kahan Aa Gaye Hum.\\\\n\\\\n## Popularity\\\\n\\\\n## Aly Goni Is A Member Of\\\\n\\\\n34 Year Olds\\\\n\\\\n34 Year Olds\\\\n\\\\nTV Actors [...] TV Actors\\\\n\\\\nFirst Name Aly\\\\n\\\\nFirst Name Aly\\\\n\\\\nPisces\\\\n\\\\nPisces\\\\n\\\\n## Aly Goni Fans Also Viewed\\\\n\\\\nDrew Starkey\\\\n\\\\nDrew Starkey\\\\n\\\\nTV Actor\\\\n\\\\nDenny Love\\\\n\\\\nDenny Love\\\\n\\\\nTV Actor\\\\n\\\\nCole Sprouse\\\\n\\\\nCole Sprouse\\\\n\\\\nTV Actor\\\\n\\\\nDylan O\\'Brien\\\\n\\\\nDylan O\\'Brien\\\\n\\\\nTV Actor\\\\n\\\\n## More February 25 Birthdays\\\\n\\\\nNoah Jupe\\\\n\\\\nNoah Jupe\\\\n\\\\nMovie Actor\\\\n\\\\nAyoslimybj\\\\n\\\\nAyoslimybj\\\\n\\\\nTikTok Star\\\\n\\\\n## More Pisces\\\\n\\\\nJafia Valencia\\\\n\\\\nJafia Valencia\\\\n\\\\nTikTok Star\\\\n\\\\nDemitra Mia Kalogeras\\\\n\\\\nDemitra Mia Kalogeras\\\\n\\\\nTikTok Star\", \"score\": 0.63397753}]', name='tavily_search_results_json', id='6474c54d-5d61-4fa8-ac2f-e42ec5aaebce', tool_call_id='dbv8k6bhh', artifact={'query': 'Aly Goni', 'follow_up_questions': None, 'answer': None, 'images': [], 'results': [{'url': 'https://en.wikipedia.org/wiki/Aly_Goni', 'title': 'Aly Goni - Wikipedia', 'content': 'Aly Goni (born 25 February 1991) is an Indian actor and model who appears in Hindi television. He made his debut through participating in MTV\\'s dating reality show Splitsvilla 5. Goni rose to fame after portraying Romesh Bhalla in StarPlus\\'s romantic Yeh Hai Mohabbatein till 2019. He has also participated in stunt-based reality show Khatron Ke Khiladi 9, and Nach Baliye 9 both in 2019. [...] Wikipedia\\nThe Free Encyclopedia\\n\\n## Contents\\n\\n# Aly Goni\\n\\n| Aly Goni | |\\n| --- | --- |\\n| Goni in 2018 | |\\n| Born | (1991-02-25) 25 February 1991 (age 34)  Bhaderwah, Jammu & Kashmir \"Jammu and Kashmir (state)\"), India |\\n| Occupations |  Actor  model \"Model (person)\") |\\n| Years active | 2012–present |\\n| Partner | Jasmin Bhasin (2021- Present) | [...] Aly Goni was born on 25 February 1991 to a Muslim family in Bhaderwah, Jammu & Kashmir \"Jammu and Kashmir (state)\"). He is the son of Amjad Goni and Ruby Goni and has a sister named Ilham Goni. Aly Goni met actress Jasmin Bhasin on airport in 2018 when they were leaving for Fear Factor: Khatron Ke Khiladi 9. Later the two begun dating each other in 2021 after appearing in Bigg Boss 14.\\n\\n## Career\\n\\nIn 2012, Aly started his career by participating in the reality show MTV Splitsvilla 5.', 'score': 0.9412289, 'raw_content': None}, {'url': 'https://www.bollywoodshaadis.com/articles/aly-goni-reveals-his-marriage-plans-with-longtime-girlfriend-jasmine-bhasin-66348', 'title': 'Aly Goni Opens Up About His Marriage Plans With Girlfriend ...', 'content': 'Aly Goni is an Indian television actor, who got fame with the show, Yeh Hai Mohabbatein. He is known for his charming looks, humour and natural personality. Apart from TV shows, he participated in reality shows as well. He was last seen and loved in Laughter Chefs, alongside talented actors like Bharti Singh, Krushna Abhishek, Harpal Singh Sokhi, Ankita Lokhande and more.\\n\\nADVT.\\n\\nadvertisement\\n\\nAly [...] Aly Goni is an Indian television actor, who got fame with the show, Yeh Hai Mohabbatein. He is known for his charming looks, humour and natural personality. Apart from TV shows, he participated in reality shows as well. He was last seen and loved in Laughter Chefs, alongside talented actors like Bharti Singh, Krushna Abhishek, Harpal Singh Sokhi, Ankita Lokhande and more.\\n\\nADVT.\\n\\nadvertisement\\n\\nAly [...] Aly Goni is an Indian television actor, who got fame with the show, Yeh Hai Mohabbatein. He is known for his charming looks, humour and natural personality. Apart from TV shows, he participated in reality shows as well. He was last seen and loved in Laughter Chefs, alongside talented actors like Bharti Singh, Krushna Abhishek, Harpal Singh Sokhi, Ankita Lokhande and more.\\n\\nADVT.\\n\\nadvertisement\\n\\nAly', 'score': 0.9121316, 'raw_content': None}, {'url': 'https://celebrity.astrosage.com/about-aly-goni-who-is-aly-goni.asp', 'title': 'Aly Goni birth date - Celebrity Horoscope - AstroSage', 'content': \"Aly Goni are a very practical person and equally capable. Aly Goni are very tidy by nature, Aly Goni love order and are methodical. It is even possible that these qualities are too highly developed in Aly Goni, and it may be that while attending to minute details, Aly Goni lose some of the larger opportunities of life.Aly Goni are sensitive and generous. Were Aly Goni to hear of a case of want or somebody in dire distress, it is unthinkable that Aly Goni would pass by and not hold out a helping [...] hand.Aly Goni are a hesitant person. Though Aly Goni have the qualities for making Aly Goni's way in the world and it is within Aly Goni's powers to climb high up the ladder of success, the necessary qualities to carry Aly Goni through and while Aly Goni are wondering some more pushing but less well-equipped person steps into Aly Goni's place. Therefore do not think much of Aly Goni's mythical limitations. Take it for granted that Aly Goni will succeed and Aly Goni will.Aly Goni are calculative [...] Free Kundli & Horoscope Matching\\n\\nFree Kundli & Horoscope Matching\\nFree Kundli & Horoscope Matching\\n\\nVarta Astrologers\\nBrihat Horoscope\\nVarta Live Banner\\n\\n## Celebrity Horoscope Search By\\n\\n# About Aly Goni / Aly Goni Biography\\n\\nAly Goni Horoscope and Astrology\\n\\n##### Name:\\n\\nAly Goni\\n\\n##### Date of Birth:\\n\\nFeb 25, 1991\\n\\n##### Time of Birth:\\n\\n12:00:00\\n\\n##### Place of Birth:\\n\\nBhadarwah\\n\\n##### Longitude:\\n\\n75 E 47\\n\\n##### Latitude:\\n\\n32 N 56\\n\\n##### Time Zone:\\n\\n5.5\\n\\n##### Information Source:\\n\\nDirty Data\", 'score': 0.7876867, 'raw_content': None}, {'url': 'https://starsunfolded.com/aly-goni/', 'title': 'Aly Goni (Bigg Boss 14) Height, Age, Girlfriend, Family, Biography ...', 'content': '| Date of Birth | 25 February 1991 (Monday) |\\n| Age (as of 2025) | 34 Years |\\n| Birthplace | Bhaderwah, Jammu & Kashmir, India |\\n| Zodiac sign | Pisces |\\n| Nationality | Indian |\\n| Hometown | Bhaderwah, Jammu & Kashmir, India |\\n| Religion | Islam |\\n| Ethnicity | Kashmiri Muslim (#f+107593+1+1)India Today |\\n| Food Habit | Non-Vegetarian  Aly Goni having foodAly Goni having food |\\n| Hobbies | Gymming, Travelling, Swimming | [...] | Date of Birth | 25 February 1991 (Monday) |\\n| Age (as of 2025) | 34 Years |\\n| Birthplace | Bhaderwah, Jammu & Kashmir, India |\\n| Zodiac sign | Pisces |\\n| Nationality | Indian |\\n| Hometown | Bhaderwah, Jammu & Kashmir, India |\\n| Religion | Islam |\\n| Ethnicity | Kashmiri Muslim (#f+107593+1+1)India Today |\\n| Food Habit | Non-Vegetarian  Aly Goni having foodAly Goni having food |\\n| Hobbies | Gymming, Travelling, Swimming | [...] | Bio/Wiki | |\\n| --- | --- |\\n| Profession | Actor |\\n| Famous Role | ‘Romi Bhalla’ in the TV serial “Yeh Hai Mohabbatein”  Aly Goni in Yeh Hai MohabbateinAly Goni in Yeh Hai Mohabbatein |\\n| Physical Stats & More | |\\n| Height (approx.) | in centimeters- 185 cm  in meters- 1.85 m  in feet & inches- 6’ 1” |\\n| Eye Colour | Black |\\n| Hair Colour | Black |\\n| Career | |\\n| Debut | TV: MTV Splitsvilla: Season 5 (2012)  Aly Goni in Splitsvilla 5Aly Goni in Splitsvilla 5 |\\n| Personal Life | |', 'score': 0.69049704, 'raw_content': None}, {'url': 'https://www.famousbirthdays.com/people/aly-goni.html', 'title': 'Aly Goni - Age, Family, Bio | Famous Birthdays', 'content': \"# Aly Goni\\n\\nTV Actor\\n\\nBirthday \\n\\nFebruary 25, 1991\\n\\nBirth Sign\\nPisces\\n\\nBirthplace\\n\\nIndia\\n\\nAge \\n34 years old\\n\\n#136,770\\nMost Popular\\n\\n## About\\n\\nActor and television star who first rose to fame appearing on the sixth series of MTV's Splitsvilla. He has since starred in prominent roles on Ye Hai Mohabbatein, Kuch Toh Hai Tere Mere Darmiyaan, and Yeh Kahan Aa Gaye Hum.\\n\\n## Before Fame [...] While attending college in 2011, he won a modeling competition organized by Indian Film & Television Institute, kickstarting his career.\\n\\n## Trivia\\n\\nAn athlete, he has played as a star on Box Cricket League for team Jaipur-Raj Joshiley.\\n\\n## Family Life\\n\\nHis father's name is Amjad Goni.\\n\\n## Associated With\\n\\nHe is the parallel male lead to Karan Kundra's character in the musical soap opera Yeh Kahan Aa Gaye Hum.\\n\\n## Popularity\\n\\n## Aly Goni Is A Member Of\\n\\n34 Year Olds\\n\\n34 Year Olds\\n\\nTV Actors [...] TV Actors\\n\\nFirst Name Aly\\n\\nFirst Name Aly\\n\\nPisces\\n\\nPisces\\n\\n## Aly Goni Fans Also Viewed\\n\\nDrew Starkey\\n\\nDrew Starkey\\n\\nTV Actor\\n\\nDenny Love\\n\\nDenny Love\\n\\nTV Actor\\n\\nCole Sprouse\\n\\nCole Sprouse\\n\\nTV Actor\\n\\nDylan O'Brien\\n\\nDylan O'Brien\\n\\nTV Actor\\n\\n## More February 25 Birthdays\\n\\nNoah Jupe\\n\\nNoah Jupe\\n\\nMovie Actor\\n\\nAyoslimybj\\n\\nAyoslimybj\\n\\nTikTok Star\\n\\n## More Pisces\\n\\nJafia Valencia\\n\\nJafia Valencia\\n\\nTikTok Star\\n\\nDemitra Mia Kalogeras\\n\\nDemitra Mia Kalogeras\\n\\nTikTok Star\", 'score': 0.63397753, 'raw_content': None}], 'response_time': 1.68}),\n",
       "  AIMessage(content=\"Based on the search results, Aly Goni is an Indian actor and model who appears in Hindi television. He was born on February 25, 1991, in Bhaderwah, Jammu & Kashmir, India. He rose to fame after portraying Romesh Bhalla in StarPlus's romantic Yeh Hai Mohabbatein till 2019. He has also participated in stunt-based reality shows like Khatron Ke Khiladi 9 and Nach Baliye 9. Aly Goni is currently in a relationship with his co-contestant Jasmin Bhasin from Bigg Boss 14.\", additional_kwargs={}, response_metadata={'token_usage': {'completion_tokens': 126, 'prompt_tokens': 2773, 'total_tokens': 2899, 'completion_time': 0.221160718, 'prompt_time': 0.62106041, 'queue_time': 0.114801492, 'total_time': 0.842221128}, 'model_name': 'llama-3.1-8b-instant', 'system_fingerprint': 'fp_c523237e5d', 'service_tier': 'on_demand', 'finish_reason': 'stop', 'logprobs': None}, id='run--19a2dbf0-e11e-4463-9465-71d2fa433895-0', usage_metadata={'input_tokens': 2773, 'output_tokens': 126, 'total_tokens': 2899}),\n",
       "  HumanMessage(content='what us me name', additional_kwargs={}, response_metadata={}, id='96f1bee3-4c47-4032-831e-dd2ae9dd8ce6'),\n",
       "  AIMessage(content='', additional_kwargs={'tool_calls': [{'id': 'f778b3v4r', 'function': {'arguments': '{\"query\":\"Aly\"}', 'name': 'wikipedia'}, 'type': 'function'}]}, response_metadata={'token_usage': {'completion_tokens': 15, 'prompt_tokens': 2912, 'total_tokens': 2927, 'completion_time': 0.026774325, 'prompt_time': 0.255659037, 'queue_time': 0.092643001, 'total_time': 0.282433362}, 'model_name': 'llama-3.1-8b-instant', 'system_fingerprint': 'fp_c523237e5d', 'service_tier': 'on_demand', 'finish_reason': 'tool_calls', 'logprobs': None}, id='run--63b557cb-3c44-4ea7-89d0-9d0bfa44bbc3-0', tool_calls=[{'name': 'wikipedia', 'args': {'query': 'Aly'}, 'id': 'f778b3v4r', 'type': 'tool_call'}], usage_metadata={'input_tokens': 2912, 'output_tokens': 15, 'total_tokens': 2927}),\n",
       "  ToolMessage(content=\"Page: Aly Goni\\nSummary: Aly Goni (born 25 February 1991) is an Indian actor and model who appears in Hindi television. He made his debut through participating in MTV's dating reality show Splitsvilla \", name='wikipedia', id='9f24bf6a-f8d3-4ec5-b333-dc73122ec766', tool_call_id='f778b3v4r'),\n",
       "  AIMessage(content='', additional_kwargs={'tool_calls': [{'id': '6vwbex0g4', 'function': {'arguments': '{\"query\":\"what is my name\"}', 'name': 'tavily_search_results_json'}, 'type': 'function'}]}, response_metadata={'token_usage': {'completion_tokens': 21, 'prompt_tokens': 2985, 'total_tokens': 3006, 'completion_time': 0.028, 'prompt_time': 0.357816601, 'queue_time': 0.115238385, 'total_time': 0.385816601}, 'model_name': 'llama-3.1-8b-instant', 'system_fingerprint': 'fp_c523237e5d', 'service_tier': 'on_demand', 'finish_reason': 'tool_calls', 'logprobs': None}, id='run--8367177f-9007-407d-a184-5ffcabf8939e-0', tool_calls=[{'name': 'tavily_search_results_json', 'args': {'query': 'what is my name'}, 'id': '6vwbex0g4', 'type': 'tool_call'}], usage_metadata={'input_tokens': 2985, 'output_tokens': 21, 'total_tokens': 3006}),\n",
       "  ToolMessage(content='[{\"title\": \"What Does My Name Mean? Creates Your Personality\", \"url\": \"https://www.kabalarians.com/cfm/what-does-my-name-mean.cfm\", \"content\": \"Let us consider what a name is. It is the grouping of several letters of an alphabet, or other symbols, which represent\\\\nthe identification of a person or an object. [...] |  |  |\\\\n| --- | --- |\\\\n| Your first name: |  |\\\\n|  | Male Female |\\\\n|  | Analyze My Name |\\\\n\\\\nYour first name:\\\\n\\\\n## The Energy In Your Name Creates Personality\\\\n\\\\nThe power of a name and its value has long been immortalized in prose, poetry, and religious ceremony.\\\\nEveryone recognizes himself or herself by name.\\\\n\\\\nThe question is: What does my name mean and how does a name influence a person\\'s character? [...] The link between human intelligence, mind, language, and the order of the letters in the alphabet is the key to\\\\nmeasuring human mind and solving the major problem of mental discord and imbalance.\\\\n\\\\nWe have  1,143,705  names on our web site.\\\\n\\\\n|  |  |\\\\n| --- | --- |\\\\n| Analyze this first name: |  |\\\\n|  | Male Female |\\\\n|  | Analyze My Name |\\\\n\\\\nFor an analysis of your full name, see our free detailed Name Report service.\", \"score\": 0.6479992}, {\"title\": \"What Is My Name - wikiHow\", \"url\": \"https://www.wikihow.com/What-Is-My-Name\", \"content\": \"Log in\\\\n\\\\nWhat Is My Name?\\\\n\\\\nTrying to guess a stranger’s name using just a simple quiz—impossible? Probably. Are we going to try anyway? Duh!\\\\n\\\\nAnswer these questions about yourself, and we’ll guess your first name with stunning (ish) accuracy. Curious to see if we can pull it off? Click that “Start Quiz” button to find out!\\\\n\\\\nQuizzes Are More Fun With Friends\\\\n\\\\nShare this quiz with your friends and compare results.\\\\n\\\\nQuestions Overview\\\\n\\\\nMore Quizzes\\\\n\\\\nThe Official wikiHow Quiz Newsletter [...] Some researchers even think that your name can have an effect on your decisions in life and the development of your personality. For example, a study conducted at Beijing’s Institute of Psychology suggests that people with very unique names are more likely to pursue unusual careers, to match the sense of identity they’ve gotten from their name all their life.\\\\nX\\\\nResearch source [...] In other words, your name might be a whole lot more than a few syllables your parents chose on the day you were born. It may have a big impact on your life!\\\\n\\\\nWant to learn more?\\\\n\\\\nFor more information about names, check out these resources:\\\\n\\\\nYou Might Also Like\\\\n\\\\nReferences\\\\n\\\\nMore Quizzes\\\\n\\\\nFollow Us\", \"score\": 0.44709876}, {\"title\": \"What is a Full Name - NewlyNamed\", \"url\": \"https://newlynamed.com/blogs/guides/what-is-a-full-name?srsltid=AfmBOoo6V-e4ur7250FIMCBQpiaQ5EuFPwnFcq0e-dSISJ4OP3oJkYLA\", \"content\": \"Typically, a full name consists of at least two parts: a given name (or first name) and a family name (or surname). However, it can also include middle names, patronymics, or matronymics depending on cultural practices. Middle names can serve various purposes, from honoring a family member to carrying a mother\\'s maiden name.\\\\n\\\\n### Is a middle name part of a full name? [...] A full name refers to the combination of a person’s given name(s) and surname(s), representing their complete legal identity. This combination typically includes a first name, which is used on a daily basis, and a last name or family name, which identifies the individual’s family lineage or heritage. In many cases, it may also include one or more middle names.\\\\n\\\\n### Why is a full name important? [...] Your full name is a fundamental part of your identity. It\\'s often the first aspect of ourselves that we present to the world, shaping others\\' perceptions and influencing how we see ourselves. Psychological studies suggest that the names we carry can affect our self-esteem and how we\\'re perceived socially and professionally. A name can convey a sense of individuality or, conversely, a connection to family or cultural heritage.\\\\n\\\\n### Family And Cultural Significance\", \"score\": 0.4105205}, {\"title\": \"Find your last name\\'s meaning and origin. - FamilySearch\", \"url\": \"https://www.familysearch.org/en/surname\", \"content\": \"A last name, also known as a family name or surname, is typically passed down from one generation to the next. Surnames can provide insights into a person\\'s ancestry, cultural background, or geographic origin.\\\\n\\\\nLearn More ›\\\\n\\\\nImage 2: What is a last name?\\\\n\\\\nWhat does this cost?\\\\n\\\\n------------------------\\\\n\\\\nEverything on FamilySearch is free. Signing up will expand your experience—build a family tree, search for your roots, and capture memories.\\\\n\\\\nSign in with:\\\\n\\\\nImage 3: Google\\\\n\\\\nImage 4: Apple [...] ### Make a family tree\\\\n\\\\nAdd what you know to your tree, and we\\'ll help you find more along the way.\\\\n\\\\nAdd your branches\\\\n\\\\n### Get genealogy help\\\\n\\\\nYou\\'re not on your own. We offer guidance and resources—in person and online.\\\\n\\\\nGet help\\\\n\\\\nExplore more helpful resources\\\\n\\\\nBrowse last names alphabetically:\\\\n\\\\nA\\\\n\\\\nB\\\\n\\\\nC\\\\n\\\\nD\\\\n\\\\nE\\\\n\\\\nF\\\\n\\\\nG\\\\n\\\\nH\\\\n\\\\nI\\\\n\\\\nJ\\\\n\\\\nK\\\\n\\\\nL\\\\n\\\\nM\\\\n\\\\nN\\\\n\\\\nO\\\\n\\\\nP\\\\n\\\\nQ\\\\n\\\\nR\\\\n\\\\nS\\\\n\\\\nT\\\\n\\\\nU\\\\n\\\\nV\\\\n\\\\nW\\\\n\\\\nX\\\\n\\\\nY\\\\n\\\\nZ\\\\n\\\\nAccess FamilySearch\\\\n------------------- [...] All Activities\\\\n   Together App\\\\n   Where Am I From?\\\\n   Surname Origins\\\\n   All About Me\\\\n   Famous Relatives\\\\n   Compare-a-Face\\\\n   Record My Story\\\\n   Picture My Heritage\\\\n\\\\n[](\\\\n\\\\nSign In\\\\n\\\\nCreate Account\\\\n\\\\nFind your last name’s meaning and origin.\\\\n=========================================\\\\n\\\\nYour surname can unlock discoveries about your heritage.\\\\n\\\\nShare:\\\\n\\\\n   What is a last name?\\\\n\\\\n   Common names\\\\n\\\\n   FAQs\\\\n\\\\n   Discover more\\\\n\\\\n   Access FamilySearch\\\\n\\\\nWhat is a last name?\\\\n\\\\n------------------------\", \"score\": 0.36026445}, {\"title\": \"Last Name Meanings and Origins | Search Surnames at Ancestry ...\", \"url\": \"https://www.ancestry.com/last-name-meaning?geo-lang=en-US\", \"content\": \"Discover the meaning and history behind your last name\\\\n\\\\nYour last name gives you a sense of identity and helps you discover who you are and where you come from.\\\\n\\\\nEnter your last name to learn its meaning and origin.\\\\n\\\\nSee what interesting facts you’ll learn about your surname on Ancestry.\\\\n\\\\nWith the world\\'s largest collection of online family history records, Ancestry helps you find the details of your family story.\\\\n\\\\nExplore millions of Records on Ancestry\", \"score\": 0.35750076}]', name='tavily_search_results_json', id='fa42f6f0-0c7d-4b76-b421-d05c273de3bd', tool_call_id='6vwbex0g4', artifact={'query': 'what is my name', 'follow_up_questions': None, 'answer': None, 'images': [], 'results': [{'url': 'https://www.kabalarians.com/cfm/what-does-my-name-mean.cfm', 'title': 'What Does My Name Mean? Creates Your Personality', 'content': \"Let us consider what a name is. It is the grouping of several letters of an alphabet, or other symbols, which represent\\nthe identification of a person or an object. [...] |  |  |\\n| --- | --- |\\n| Your first name: |  |\\n|  | Male Female |\\n|  | Analyze My Name |\\n\\nYour first name:\\n\\n## The Energy In Your Name Creates Personality\\n\\nThe power of a name and its value has long been immortalized in prose, poetry, and religious ceremony.\\nEveryone recognizes himself or herself by name.\\n\\nThe question is: What does my name mean and how does a name influence a person's character? [...] The link between human intelligence, mind, language, and the order of the letters in the alphabet is the key to\\nmeasuring human mind and solving the major problem of mental discord and imbalance.\\n\\nWe have  1,143,705  names on our web site.\\n\\n|  |  |\\n| --- | --- |\\n| Analyze this first name: |  |\\n|  | Male Female |\\n|  | Analyze My Name |\\n\\nFor an analysis of your full name, see our free detailed Name Report service.\", 'score': 0.6479992, 'raw_content': None}, {'url': 'https://www.wikihow.com/What-Is-My-Name', 'title': 'What Is My Name - wikiHow', 'content': 'Log in\\n\\nWhat Is My Name?\\n\\nTrying to guess a stranger’s name using just a simple quiz—impossible? Probably. Are we going to try anyway? Duh!\\n\\nAnswer these questions about yourself, and we’ll guess your first name with stunning (ish) accuracy. Curious to see if we can pull it off? Click that “Start Quiz” button to find out!\\n\\nQuizzes Are More Fun With Friends\\n\\nShare this quiz with your friends and compare results.\\n\\nQuestions Overview\\n\\nMore Quizzes\\n\\nThe Official wikiHow Quiz Newsletter [...] Some researchers even think that your name can have an effect on your decisions in life and the development of your personality. For example, a study conducted at Beijing’s Institute of Psychology suggests that people with very unique names are more likely to pursue unusual careers, to match the sense of identity they’ve gotten from their name all their life.\\nX\\nResearch source [...] In other words, your name might be a whole lot more than a few syllables your parents chose on the day you were born. It may have a big impact on your life!\\n\\nWant to learn more?\\n\\nFor more information about names, check out these resources:\\n\\nYou Might Also Like\\n\\nReferences\\n\\nMore Quizzes\\n\\nFollow Us', 'score': 0.44709876, 'raw_content': None}, {'url': 'https://newlynamed.com/blogs/guides/what-is-a-full-name?srsltid=AfmBOoo6V-e4ur7250FIMCBQpiaQ5EuFPwnFcq0e-dSISJ4OP3oJkYLA', 'title': 'What is a Full Name - NewlyNamed', 'content': \"Typically, a full name consists of at least two parts: a given name (or first name) and a family name (or surname). However, it can also include middle names, patronymics, or matronymics depending on cultural practices. Middle names can serve various purposes, from honoring a family member to carrying a mother's maiden name.\\n\\n### Is a middle name part of a full name? [...] A full name refers to the combination of a person’s given name(s) and surname(s), representing their complete legal identity. This combination typically includes a first name, which is used on a daily basis, and a last name or family name, which identifies the individual’s family lineage or heritage. In many cases, it may also include one or more middle names.\\n\\n### Why is a full name important? [...] Your full name is a fundamental part of your identity. It's often the first aspect of ourselves that we present to the world, shaping others' perceptions and influencing how we see ourselves. Psychological studies suggest that the names we carry can affect our self-esteem and how we're perceived socially and professionally. A name can convey a sense of individuality or, conversely, a connection to family or cultural heritage.\\n\\n### Family And Cultural Significance\", 'score': 0.4105205, 'raw_content': None}, {'url': 'https://www.familysearch.org/en/surname', 'title': \"Find your last name's meaning and origin. - FamilySearch\", 'content': \"A last name, also known as a family name or surname, is typically passed down from one generation to the next. Surnames can provide insights into a person's ancestry, cultural background, or geographic origin.\\n\\nLearn More ›\\n\\nImage 2: What is a last name?\\n\\nWhat does this cost?\\n\\n------------------------\\n\\nEverything on FamilySearch is free. Signing up will expand your experience—build a family tree, search for your roots, and capture memories.\\n\\nSign in with:\\n\\nImage 3: Google\\n\\nImage 4: Apple [...] ### Make a family tree\\n\\nAdd what you know to your tree, and we'll help you find more along the way.\\n\\nAdd your branches\\n\\n### Get genealogy help\\n\\nYou're not on your own. We offer guidance and resources—in person and online.\\n\\nGet help\\n\\nExplore more helpful resources\\n\\nBrowse last names alphabetically:\\n\\nA\\n\\nB\\n\\nC\\n\\nD\\n\\nE\\n\\nF\\n\\nG\\n\\nH\\n\\nI\\n\\nJ\\n\\nK\\n\\nL\\n\\nM\\n\\nN\\n\\nO\\n\\nP\\n\\nQ\\n\\nR\\n\\nS\\n\\nT\\n\\nU\\n\\nV\\n\\nW\\n\\nX\\n\\nY\\n\\nZ\\n\\nAccess FamilySearch\\n------------------- [...] All Activities\\n   Together App\\n   Where Am I From?\\n   Surname Origins\\n   All About Me\\n   Famous Relatives\\n   Compare-a-Face\\n   Record My Story\\n   Picture My Heritage\\n\\n[](\\n\\nSign In\\n\\nCreate Account\\n\\nFind your last name’s meaning and origin.\\n=========================================\\n\\nYour surname can unlock discoveries about your heritage.\\n\\nShare:\\n\\n   What is a last name?\\n\\n   Common names\\n\\n   FAQs\\n\\n   Discover more\\n\\n   Access FamilySearch\\n\\nWhat is a last name?\\n\\n------------------------\", 'score': 0.36026445, 'raw_content': None}, {'url': 'https://www.ancestry.com/last-name-meaning?geo-lang=en-US', 'title': 'Last Name Meanings and Origins | Search Surnames at Ancestry ...', 'content': \"Discover the meaning and history behind your last name\\n\\nYour last name gives you a sense of identity and helps you discover who you are and where you come from.\\n\\nEnter your last name to learn its meaning and origin.\\n\\nSee what interesting facts you’ll learn about your surname on Ancestry.\\n\\nWith the world's largest collection of online family history records, Ancestry helps you find the details of your family story.\\n\\nExplore millions of Records on Ancestry\", 'score': 0.35750076, 'raw_content': None}], 'response_time': 2.37}),\n",
       "  AIMessage(content='Your name is Aly.', additional_kwargs={}, response_metadata={'token_usage': {'completion_tokens': 6, 'prompt_tokens': 4609, 'total_tokens': 4615, 'completion_time': 0.017129065, 'prompt_time': 0.761246897, 'queue_time': 0.09407940399999992, 'total_time': 0.778375962}, 'model_name': 'llama-3.1-8b-instant', 'system_fingerprint': 'fp_c523237e5d', 'service_tier': 'on_demand', 'finish_reason': 'stop', 'logprobs': None}, id='run--7263759e-77ea-4175-9326-15d27326f8f2-0', usage_metadata={'input_tokens': 4609, 'output_tokens': 6, 'total_tokens': 4615})]}"
      ]
     },
     "execution_count": 25,
     "metadata": {},
     "output_type": "execute_result"
    }
   ],
   "source": [
    "response=graph.invoke({\"messages\":\"what us me name\"},config=config)\n",
    "\n",
    "response"
   ]
  },
  {
   "cell_type": "code",
   "execution_count": 33,
   "id": "bd1e8163",
   "metadata": {},
   "outputs": [
    {
     "data": {
      "image/png": "[encoded data removed]",
      "text/plain": [
       "<IPython.core.display.Image object>"
      ]
     },
     "metadata": {},
     "output_type": "display_data"
    }
   ],
   "source": [
    "def superbit(state:State):\n",
    "    return {\"messages\":[llm.invoke(state[\"messages\"])]}\n",
    "\n",
    "\n",
    "from langgraph.checkpoint.memory import MemorySaver\n",
    "\n",
    "\n",
    "memory=MemorySaver()\n",
    "\n",
    "builder=StateGraph(State)\n",
    "\n",
    "builder.add_node(\"tool_calling_llm\",tool_calling_llm)\n",
    "builder.add_node(\"tools\",ToolNode(tools=tools))\n",
    "\n",
    "\n",
    "\n",
    "#add edges\n",
    "builder.add_edge(START, \"tool_calling_llm\")\n",
    "# builder.add_conditional_edges(\"tool_calling_llm\", tools_condition)\n",
    "\n",
    "# builder.add_edge(\"tools\", \"tool_calling_llm\")\n",
    "builder.add_edge(\"tool_calling_llm\",END)\n",
    "\n",
    "\n",
    "graph=builder.compile(checkpointer=memory)\n",
    "\n",
    "\n",
    "display(Image(graph.get_graph().draw_mermaid_png()))"
   ]
  },
  {
   "cell_type": "markdown",
   "id": "9c4b8450",
   "metadata": {},
   "source": [
    "Streaming\n"
   ]
  },
  {
   "cell_type": "markdown",
   "id": "596c0045",
   "metadata": {},
   "source": [
    "Methods: .stream() and astream()\n",
    "• These methods are sync and async methods for streaming back results.\n",
    "Additional parameters in streaming modes for graph state\n",
    "\n",
    "\n",
    "⚫ values: This streams the full state of the graph after each node is called.\n",
    "⚫ updates: This streams updates to the state of the graph after each node is called.\n"
   ]
  },
  {
   "cell_type": "code",
   "execution_count": 34,
   "id": "aacd630f",
   "metadata": {},
   "outputs": [
    {
     "name": "stdout",
     "output_type": "stream",
     "text": [
      "{'tool_calling_llm': {'messages': [AIMessage(content='', additional_kwargs={'tool_calls': [{'id': '7khae3xmk', 'function': {'arguments': '{\"query\":\"Aly (given name)\"}', 'name': 'wikipedia'}, 'type': 'function'}, {'id': 'dx760x0dy', 'function': {'arguments': '{\"query\":\"Football player hobbies\"}', 'name': 'wikipedia'}, 'type': 'function'}]}, response_metadata={'token_usage': {'completion_tokens': 33, 'prompt_tokens': 400, 'total_tokens': 433, 'completion_time': 0.063539541, 'prompt_time': 0.093102045, 'queue_time': 0.09200971, 'total_time': 0.156641586}, 'model_name': 'llama-3.1-8b-instant', 'system_fingerprint': 'fp_c523237e5d', 'service_tier': 'on_demand', 'finish_reason': 'tool_calls', 'logprobs': None}, id='run--31a32286-18a6-4be6-9b9f-93d45cd45e02-0', tool_calls=[{'name': 'wikipedia', 'args': {'query': 'Aly (given name)'}, 'id': '7khae3xmk', 'type': 'tool_call'}, {'name': 'wikipedia', 'args': {'query': 'Football player hobbies'}, 'id': 'dx760x0dy', 'type': 'tool_call'}], usage_metadata={'input_tokens': 400, 'output_tokens': 33, 'total_tokens': 433})]}}\n"
     ]
    }
   ],
   "source": [
    "config={\"configurable\": {\"thread_id\": \"3\"}}\n",
    "\n",
    "\n",
    "for chunk in graph.stream({\"messages\":\"my name is aly and like to play fotball\"},config,stream_mode=\"updates\"):\n",
    "    print(chunk)"
   ]
  },
  {
   "cell_type": "code",
   "execution_count": 35,
   "id": "7d8ec776",
   "metadata": {},
   "outputs": [
    {
     "name": "stdout",
     "output_type": "stream",
     "text": [
      "{'messages': [HumanMessage(content='my name is aly and like to play fotball', additional_kwargs={}, response_metadata={}, id='752ee694-64dc-48a4-83bf-0bfcf1bbd72a'), AIMessage(content='', additional_kwargs={'tool_calls': [{'id': '7khae3xmk', 'function': {'arguments': '{\"query\":\"Aly (given name)\"}', 'name': 'wikipedia'}, 'type': 'function'}, {'id': 'dx760x0dy', 'function': {'arguments': '{\"query\":\"Football player hobbies\"}', 'name': 'wikipedia'}, 'type': 'function'}]}, response_metadata={'token_usage': {'completion_tokens': 33, 'prompt_tokens': 400, 'total_tokens': 433, 'completion_time': 0.063539541, 'prompt_time': 0.093102045, 'queue_time': 0.09200971, 'total_time': 0.156641586}, 'model_name': 'llama-3.1-8b-instant', 'system_fingerprint': 'fp_c523237e5d', 'service_tier': 'on_demand', 'finish_reason': 'tool_calls', 'logprobs': None}, id='run--31a32286-18a6-4be6-9b9f-93d45cd45e02-0', tool_calls=[{'name': 'wikipedia', 'args': {'query': 'Aly (given name)'}, 'id': '7khae3xmk', 'type': 'tool_call'}, {'name': 'wikipedia', 'args': {'query': 'Football player hobbies'}, 'id': 'dx760x0dy', 'type': 'tool_call'}], usage_metadata={'input_tokens': 400, 'output_tokens': 33, 'total_tokens': 433}), HumanMessage(content='i also like football', additional_kwargs={}, response_metadata={}, id='8bfc4aa6-3ed6-49cb-ba90-a4be24815039')]}\n",
      "{'messages': [HumanMessage(content='my name is aly and like to play fotball', additional_kwargs={}, response_metadata={}, id='752ee694-64dc-48a4-83bf-0bfcf1bbd72a'), AIMessage(content='', additional_kwargs={'tool_calls': [{'id': '7khae3xmk', 'function': {'arguments': '{\"query\":\"Aly (given name)\"}', 'name': 'wikipedia'}, 'type': 'function'}, {'id': 'dx760x0dy', 'function': {'arguments': '{\"query\":\"Football player hobbies\"}', 'name': 'wikipedia'}, 'type': 'function'}]}, response_metadata={'token_usage': {'completion_tokens': 33, 'prompt_tokens': 400, 'total_tokens': 433, 'completion_time': 0.063539541, 'prompt_time': 0.093102045, 'queue_time': 0.09200971, 'total_time': 0.156641586}, 'model_name': 'llama-3.1-8b-instant', 'system_fingerprint': 'fp_c523237e5d', 'service_tier': 'on_demand', 'finish_reason': 'tool_calls', 'logprobs': None}, id='run--31a32286-18a6-4be6-9b9f-93d45cd45e02-0', tool_calls=[{'name': 'wikipedia', 'args': {'query': 'Aly (given name)'}, 'id': '7khae3xmk', 'type': 'tool_call'}, {'name': 'wikipedia', 'args': {'query': 'Football player hobbies'}, 'id': 'dx760x0dy', 'type': 'tool_call'}], usage_metadata={'input_tokens': 400, 'output_tokens': 33, 'total_tokens': 433}), HumanMessage(content='i also like football', additional_kwargs={}, response_metadata={}, id='8bfc4aa6-3ed6-49cb-ba90-a4be24815039'), AIMessage(content='', additional_kwargs={'tool_calls': [{'id': '7e4vf1bff', 'function': {'arguments': '{\"query\":\"football hobbies\"}', 'name': 'tavily_search_results_json'}, 'type': 'function'}]}, response_metadata={'token_usage': {'completion_tokens': 19, 'prompt_tokens': 446, 'total_tokens': 465, 'completion_time': 0.025333333, 'prompt_time': 1.233835181, 'queue_time': 0.09113083900000007, 'total_time': 1.259168514}, 'model_name': 'llama-3.1-8b-instant', 'system_fingerprint': 'fp_c523237e5d', 'service_tier': 'on_demand', 'finish_reason': 'tool_calls', 'logprobs': None}, id='run--f82c4345-2cb7-45a4-b985-8b43ad499a56-0', tool_calls=[{'name': 'tavily_search_results_json', 'args': {'query': 'football hobbies'}, 'id': '7e4vf1bff', 'type': 'tool_call'}], usage_metadata={'input_tokens': 446, 'output_tokens': 19, 'total_tokens': 465})]}\n"
     ]
    }
   ],
   "source": [
    "for chunk in graph.stream({\"messages\":\"i also like football\"},config,stream_mode=\"values\"):\n",
    "    print(chunk)"
   ]
  },
  {
   "cell_type": "markdown",
   "id": "ff1c7dfe",
   "metadata": {},
   "source": [
    "human intruption\n"
   ]
  },
  {
   "cell_type": "code",
   "execution_count": 37,
   "id": "9a94073a",
   "metadata": {},
   "outputs": [
    {
     "data": {
      "image/png": "[encoded data removed]",
      "text/plain": [
       "<IPython.core.display.Image object>"
      ]
     },
     "metadata": {},
     "output_type": "display_data"
    }
   ],
   "source": [
    "from langgraph.types import Command,interrupt\n",
    "from langchain_core.tools import tool\n",
    "\n",
    "\n",
    "\n",
    "memory=MemorySaver()\n",
    "\n",
    "builder=StateGraph(State)\n",
    "@tool\n",
    "def human_assistant(query:str):\n",
    "    \"\"\"\n",
    "    This tool is used to get human assistance.\n",
    "    \"\"\"\n",
    "    humane_response=interrupt({\"query\": query})\n",
    "    return humane_response[\"data\"]\n",
    "\n",
    "\n",
    "tools=[human_assistant,TavilySearchResults(max_results=2)]\n",
    "llm_with_tools=llm.bind_tools(tools)\n",
    "\n",
    "def tool_calling_llm(state:State):\n",
    "    return {\"messages\":[llm_with_tools.invoke(state[\"messages\"])]}\n",
    "\n",
    "\n",
    "\n",
    "\n",
    "\n",
    "builder.add_node(\"tool_calling_llm\",tool_calling_llm)\n",
    "builder.add_node(\"tools\",ToolNode(tools=tools))\n",
    "\n",
    "\n",
    "\n",
    "#add edges\n",
    "builder.add_edge(START, \"tool_calling_llm\")\n",
    "builder.add_conditional_edges(\"tool_calling_llm\", tools_condition)\n",
    "\n",
    "builder.add_edge(\"tools\", \"tool_calling_llm\")\n",
    "builder.add_edge(\"tool_calling_llm\",END)\n",
    "\n",
    "\n",
    "graph=builder.compile(checkpointer=memory)\n",
    "\n",
    "\n",
    "display(Image(graph.get_graph().draw_mermaid_png()))"
   ]
  },
  {
   "cell_type": "code",
   "execution_count": 38,
   "id": "ea5184ea",
   "metadata": {},
   "outputs": [
    {
     "name": "stdout",
     "output_type": "stream",
     "text": [
      "================================\u001b[1m Human Message \u001b[0m=================================\n",
      "\n",
      "I need some expert guidance for building an AI agent. Could you request assistance for me?\n",
      "==================================\u001b[1m Ai Message \u001b[0m==================================\n",
      "Tool Calls:\n",
      "  human_assistant (1a6c9tg0n)\n",
      " Call ID: 1a6c9tg0n\n",
      "  Args:\n",
      "    query: expert guidance for building an AI agent\n"
     ]
    }
   ],
   "source": [
    "user_input = \"I need some expert guidance for building an AI agent. Could you request assistance for me?\"\n",
    "config = {\"configurable\": {\"thread_id\": \"1\"}}\n",
    "events = graph.stream(\n",
    "        {\"messages\": user_input},\n",
    "        config,\n",
    "        stream_mode=\"values\",\n",
    "    )\n",
    "for event in events: \n",
    "    if \"messages\" in event: \n",
    "        event[\"messages\"][-1].pretty_print()"
   ]
  },
  {
   "cell_type": "code",
   "execution_count": 39,
   "id": "519104ec",
   "metadata": {},
   "outputs": [
    {
     "name": "stdout",
     "output_type": "stream",
     "text": [
      "==================================\u001b[1m Ai Message \u001b[0m==================================\n",
      "Tool Calls:\n",
      "  human_assistant (1a6c9tg0n)\n",
      " Call ID: 1a6c9tg0n\n",
      "  Args:\n",
      "    query: expert guidance for building an AI agent\n",
      "=================================\u001b[1m Tool Message \u001b[0m=================================\n",
      "Name: human_assistant\n",
      "\n",
      "We, the experts are here to help! We'd recommend you check out LangGraph to build your agent.It's much more reliable and extensible than simple autonomous agents.\n",
      "==================================\u001b[1m Ai Message \u001b[0m==================================\n",
      "Tool Calls:\n",
      "  tavily_search_results_json (vaxfvmt0c)\n",
      " Call ID: vaxfvmt0c\n",
      "  Args:\n",
      "    query: build AI agent LangGraph\n",
      "=================================\u001b[1m Tool Message \u001b[0m=================================\n",
      "Name: tavily_search_results_json\n",
      "\n",
      "[{\"title\": \"LangGraph Tutorial - How to Build Advanced AI Agent Systems\", \"url\": \"https://www.youtube.com/watch?v=1w5cCXlh7JQ&pp=0gcJCfwAo7VqN5tD\", \"content\": \"In this video, you're going to learn how to build AI agents using LangGraph. LangGraph is a much more professional and in-depth framework compared to something like LangChain or LlamaIndex, which allows you to build a really complicated and well thought out AI agents. If you're looking to push something into production, you want to have scalability features, and overall you just want more control, then LangGraph is what you should be using.\\n\\n🚀 My Software Development Program: [...] Overview in this video you're going to learn how to build AI agents using Langraphph Langraph is a much more professional and in-depth framework compared to something like Langchain or Llama Index which allows you to build a really complicated and wellthoughtout AI agent If you're looking to push something into production you want to have scalability features and overall you just want more control then Langraph is what you should be using But it can be difficult to learn So that's why I'm\", \"score\": 0.9018604}, {\"title\": \"How to Build AI Agents with LangGraph: A Step-by-Step Guide\", \"url\": \"https://medium.com/@lorevanoudenhove/how-to-build-ai-agents-with-langgraph-a-step-by-step-guide-5d84d9c7e832\", \"content\": \"Now that we have a solid understanding of what LangGraph is and how it enhances AI development, let’s dive into a practical example. In this scenario, we’ll build an AI agent designed to calculate potential energy savings for solar panels based on user input. This agent can be implemented as a lead generation tool on a solar panel seller’s website, where it interacts with potential customers, offering personalized savings estimates. By gathering key data such as monthly electricity costs, this [...] LangGraph is an advanced library built on top of LangChain, designed to enhance your Large Language Model (LLM) applications by introducing cyclic computational capabilities. While LangChain allows the creation of Directed Acyclic Graphs (DAGs) for linear workflows, LangGraph takes this a step further by enabling the addition of cycles, which are essential for developing complex, agent-like behaviors. These behaviors allow LLMs to continuously loop through a process, dynamically deciding what [...] In this step, we construct the graph structure for the AI assistant using LangGraph, which controls how the assistant processes user input, triggers tools, and moves between stages. The graph defines nodes for the core actions (like invoking the assistant and tool) and edges that dictate the flow between these nodes.\\n\\nImage 4\\n\\nAI agent designed to calculate potential energy savings for solar panels.\", \"score\": 0.8719229}]\n",
      "==================================\u001b[1m Ai Message \u001b[0m==================================\n",
      "\n",
      "Based on the search results, it appears that LangGraph is a suitable choice for building an AI agent. It offers a more professional and in-depth framework compared to other options like LangChain or Llama Index, allowing for the creation of complex and well-thought-out AI agents. LangGraph enables the addition of cycles to Directed Acyclic Graphs (DAGs), which is essential for developing agent-like behaviors that can dynamically loop through processes.\n",
      "\n",
      "To get started with building an AI agent using LangGraph, it's recommended to follow the step-by-step guide provided in the second search result. This guide walks through the process of building an AI agent designed to calculate potential energy savings for solar panels, which can be implemented as a lead generation tool on a solar panel seller's website.\n",
      "\n",
      "The guide covers the construction of the graph structure for the AI assistant using LangGraph, which controls how the assistant processes user input, triggers tools, and moves between stages. It also includes an image of the AI agent designed to calculate potential energy savings for solar panels.\n",
      "\n",
      "Overall, LangGraph seems to be a powerful tool for building AI agents, and following the provided guide can help you create a complex and well-thought-out AI agent for your specific use case.\n"
     ]
    }
   ],
   "source": [
    "human_response = (\n",
    "\"We, the experts are here to help! We'd recommend you check out LangGraph to build your agent.\"\n",
    "\"It's much more reliable and extensible than simple autonomous agents.\"\n",
    ")\n",
    "human_command = Command (resume={\"data\": human_response})\n",
    "events=graph.stream(human_command, config, stream_mode=\"values\")\n",
    "for event in events:\n",
    "    if \"messages\" in event:\n",
    "        event[\"messages\"][-1].pretty_print()"
   ]
  },
  {
   "cell_type": "code",
   "execution_count": null,
   "id": "6e41233c",
   "metadata": {},
   "outputs": [],
   "source": []
  }
 ],
 "metadata": {
  "kernelspec": {
   "display_name": "venv",
   "language": "python",
   "name": "python3"
  },
  "language_info": {
   "codemirror_mode": {
    "name": "ipython",
    "version": 3
   },
   "file_extension": ".py",
   "mimetype": "text/x-python",
   "name": "python",
   "nbconvert_exporter": "python",
   "pygments_lexer": "ipython3",
   "version": "3.12.3"
  }
 },
 "nbformat": 4,
 "nbformat_minor": 5
}
